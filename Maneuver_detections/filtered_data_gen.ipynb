{
 "cells": [
  {
   "cell_type": "code",
   "execution_count": 15,
   "metadata": {
    "colab": {
     "base_uri": "https://localhost:8080/"
    },
    "executionInfo": {
     "elapsed": 6397,
     "status": "ok",
     "timestamp": 1632741331631,
     "user": {
      "displayName": "Aaryansh Mohan Bansal",
      "photoUrl": "https://lh3.googleusercontent.com/a-/AOh14Ghi3BY2z4TJj9tLxHingTikg46M5njHUxFzDCKQeg=s64",
      "userId": "06585114614514006883"
     },
     "user_tz": -330
    },
    "id": "zMycPNvCvf8J",
    "outputId": "713dc521-9690-4678-c5f5-8663de1e1df7"
   },
   "outputs": [
    {
     "name": "stdout",
     "output_type": "stream",
     "text": [
      "Requirement already satisfied: sgp4 in /usr/local/lib/python3.7/dist-packages (2.20)\n",
      "Requirement already satisfied: skyfield in /usr/local/lib/python3.7/dist-packages (1.39)\n",
      "Requirement already satisfied: numpy in /usr/local/lib/python3.7/dist-packages (from skyfield) (1.19.5)\n",
      "Requirement already satisfied: certifi>=2017.4.17 in /usr/local/lib/python3.7/dist-packages (from skyfield) (2021.5.30)\n",
      "Requirement already satisfied: sgp4>=2.2 in /usr/local/lib/python3.7/dist-packages (from skyfield) (2.20)\n",
      "Requirement already satisfied: jplephem>=2.13 in /usr/local/lib/python3.7/dist-packages (from skyfield) (2.16)\n"
     ]
    }
   ],
   "source": [
    "from sgp4.api import Satrec\n",
    "from sgp4.api import jday\n",
    "from tqdm import tqdm\n",
    "import pandas as pd\n",
    "from skyfield.api import EarthSatellite\n",
    "from skyfield.api import load, wgs84"
   ]
  },
  {
   "cell_type": "code",
   "execution_count": null,
   "metadata": {},
   "outputs": [],
   "source": [
    "## LINK TO DATA FOLDER:-https://drive.google.com/drive/folders/1HExaz_W_dHEDSngdqHxW9UAyMazoX6ab?usp=sharing\n",
    "\n",
    "## Please add it to the same folder as-\"Maneuver_Detections\""
   ]
  },
  {
   "cell_type": "code",
   "execution_count": 16,
   "metadata": {
    "executionInfo": {
     "elapsed": 29,
     "status": "ok",
     "timestamp": 1632741331632,
     "user": {
      "displayName": "Aaryansh Mohan Bansal",
      "photoUrl": "https://lh3.googleusercontent.com/a-/AOh14Ghi3BY2z4TJj9tLxHingTikg46M5njHUxFzDCKQeg=s64",
      "userId": "06585114614514006883"
     },
     "user_tz": -330
    },
    "id": "SDZadRTWviqK"
   },
   "outputs": [],
   "source": [
    "# Load the TLE raw data from local system \n",
    "\n",
    "recent_elset_data = open('data(1)/recent_elset.tle', 'r') \n",
    "TLE_first_lines = []\n",
    "TLE_second_lines = []\n",
    "TLE_third_lines = []\n",
    "\n",
    "while True: \n",
    "    # Get next line\n",
    "    line = recent_elset_data.readline()\n",
    "    if not line: \n",
    "        break\n",
    "\n",
    "    TLE_first_lines.append(line.strip())\n",
    "\n",
    "    line = recent_elset_data.readline()\n",
    "    TLE_second_lines.append(line.strip())\n",
    "\n",
    "    line = recent_elset_data.readline()\n",
    "    TLE_third_lines.append(line.strip())\n",
    "  \n",
    "recent_elset_data.close()"
   ]
  },
  {
   "cell_type": "code",
   "execution_count": 17,
   "metadata": {
    "executionInfo": {
     "elapsed": 26,
     "status": "ok",
     "timestamp": 1632741331634,
     "user": {
      "displayName": "Aaryansh Mohan Bansal",
      "photoUrl": "https://lh3.googleusercontent.com/a-/AOh14Ghi3BY2z4TJj9tLxHingTikg46M5njHUxFzDCKQeg=s64",
      "userId": "06585114614514006883"
     },
     "user_tz": -330
    },
    "id": "iIE6JqHSwAg1"
   },
   "outputs": [],
   "source": [
    "def split(word):\n",
    "    return [char for char in word]\n",
    "\n",
    "# Python program to convert a list\n",
    "# of character  \n",
    "def convert(s):\n",
    "  \n",
    "    # initialization of string to \"\"\n",
    "    new = \"\"\n",
    "  \n",
    "    # traverse in the string \n",
    "    for x in s:\n",
    "        new += x \n",
    "  \n",
    "    # return string \n",
    "    return new"
   ]
  },
  {
   "cell_type": "code",
   "execution_count": 18,
   "metadata": {
    "colab": {
     "base_uri": "https://localhost:8080/"
    },
    "executionInfo": {
     "elapsed": 1000,
     "status": "ok",
     "timestamp": 1632741332612,
     "user": {
      "displayName": "Aaryansh Mohan Bansal",
      "photoUrl": "https://lh3.googleusercontent.com/a-/AOh14Ghi3BY2z4TJj9tLxHingTikg46M5njHUxFzDCKQeg=s64",
      "userId": "06585114614514006883"
     },
     "user_tz": -330
    },
    "id": "bOkbUfY1wCYC",
    "outputId": "695705ae-5d02-4495-e47f-2616ff371119"
   },
   "outputs": [
    {
     "name": "stderr",
     "output_type": "stream",
     "text": [
      "100%|██████████| 20765/20765 [00:00<00:00, 113281.86it/s]\n"
     ]
    }
   ],
   "source": [
    "object_name = []\n",
    "NORAD_id_list = []\n",
    "epoch_list = []\n",
    "inclination_list = []\n",
    "right_ascension_ascending_node_list = []\n",
    "eccentricity_list = []\n",
    "argument_perigee_list = []\n",
    "first_derivative_mean_motion_list = []\n",
    "second_derivative_mean_motion_list = []\n",
    "mean_anomaly_list =[]\n",
    "mean_motion_list = []\n",
    "drag_term_list = []\n",
    "revolution_list = []\n",
    "year_of_launch_list = []\n",
    "sublongitude = []\n",
    "sublatitude = []\n",
    "tle_line1_list = []\n",
    "tle_line2_list = []\n",
    "tle_line3_list = []\n",
    "\n",
    "for i in tqdm(range(len(TLE_first_lines))):\n",
    "    tle_line1 = TLE_first_lines[i]\n",
    "    tle_line2 = TLE_second_lines[i]\n",
    "    tle_line3 = TLE_third_lines[i]\n",
    "\n",
    "    # unwanted objects\n",
    "    flag = 0\n",
    "    tle_line1_ = tle_line1.split()\n",
    "    for j in range(len(tle_line1_)):\n",
    "        flag = 0\n",
    "        if tle_line1_[j]==\"DEB\" or tle_line1_[j] == 'R/B' or tle_line1_[j] == 'COOLANT' or tle_line1[j] == 'FUEL CORE' or tle_line1_[j]=='TBA':\n",
    "            flag = 1\n",
    "            break \n",
    "    if flag == 1:\n",
    "        continue\n",
    "\n",
    "    # TLES\n",
    "    tle_line1_list.append(tle_line1)\n",
    "    tle_line2_list.append(tle_line2)\n",
    "    tle_line3_list.append(tle_line3)\n",
    "\n",
    "    #Object name\n",
    "    object_name_ = tle_line1[1:]\n",
    "    object_name.append(object_name_)  \n",
    "    \n",
    "    tle_line2_ = tle_line2.split()\n",
    "\n",
    "        \n",
    "    # YEAR_OF LAUNCH\n",
    "    year_of_launch = tle_line2_[2]\n",
    "    year_of_launch_list.append(year_of_launch)\n",
    "    \n",
    "    #EPOCH\n",
    "    epoch = float(tle_line2_[3])\n",
    "    epoch_list.append(epoch)\n",
    "    \n",
    "    # FIRST DERIVATIVE MEAN MOTION(n_dot)\n",
    "    first_derivative_mean_motion = tle_line2_[4]\n",
    "    characters = split(first_derivative_mean_motion)\n",
    "    flag = 0\n",
    "    num = None\n",
    "    if characters[0]==\"-\":\n",
    "        characters[0] = \"-0\"\n",
    "    elif characters[0]==\"+\":\n",
    "        characters[0]= \"+0\"\n",
    "        \n",
    "    if characters[-2]==\"-\":\n",
    "        num1 = float(convert(characters[:-2]))\n",
    "        power = -float(characters[-1])\n",
    "        num = num1*(10**power)\n",
    "        flag = 1\n",
    "        \n",
    "    if characters[-2]==\"+\":\n",
    "        num1 = float(convert(characters[:-2]))\n",
    "        power = +float(characters[-1])\n",
    "        num = num1*(10**power)\n",
    "        flag = 1\n",
    "        \n",
    "    if flag==0:   \n",
    "        first_derivative_mean_motion = float(convert(characters))\n",
    "        first_derivative_mean_motion_list.append(first_derivative_mean_motion)\n",
    "    else:\n",
    "        first_derivative_mean_motion = num\n",
    "        first_derivative_mean_motion_list.append(first_derivative_mean_motion)\n",
    "        \n",
    "    \n",
    "    # SECOND DERIVATIVE MEAN MOTION(n_ddot)\n",
    "    second_derivative_mean_motion = tle_line2_[5]\n",
    "    characters = split(second_derivative_mean_motion)\n",
    "    flag = 0\n",
    "    num = None\n",
    "    if characters[0]==\"-\":\n",
    "        characters[0] = \"-0\"\n",
    "    elif characters[0]==\"+\":\n",
    "        characters[0]= \"+0\"\n",
    "        \n",
    "    if characters[-2]==\"-\":\n",
    "        num1 = float(convert(characters[:-2]))\n",
    "        power = -float(characters[-1])\n",
    "        num = num1*(10**power)\n",
    "        flag = 1\n",
    "        \n",
    "    if characters[-2]==\"+\":\n",
    "        num1 = float(convert(characters[:-2]))\n",
    "        power = +float(characters[-1])\n",
    "        num = num1*(10**power)\n",
    "        flag = 1\n",
    "        \n",
    "    if flag==0:   \n",
    "        second_derivative_mean_motion = float(convert(characters))\n",
    "        first_derivative_mean_motion_list.append(first_derivative_mean_motion)\n",
    "    else:\n",
    "        second_derivative_mean_motion = num\n",
    "        second_derivative_mean_motion_list.append(second_derivative_mean_motion)\n",
    "    \n",
    "    # DRAG TERM(B*)\n",
    "    drag_term = tle_line2_[6]\n",
    "    characters = split(drag_term)\n",
    "    flag = 0\n",
    "    num = None\n",
    "    if characters[0]==\"-\":\n",
    "        characters[0] = \"-0\"\n",
    "    elif characters[0]==\"+\":\n",
    "        characters[0]= \"+0\"\n",
    "        \n",
    "    if len(characters)>=2 and characters[-2]==\"-\":\n",
    "        num1 = float(convert(characters[:-2]))\n",
    "        power = -float(characters[-1])\n",
    "        num = num1*(10**power)\n",
    "        flag = 1\n",
    "        \n",
    "    if len(characters)>=2 and characters[-2]==\"+\":\n",
    "        num1 = float(convert(characters[:-2]))\n",
    "        power = +float(characters[-1])\n",
    "        num = num1*(10**power)\n",
    "        flag = 1\n",
    "        \n",
    "    if flag==0:   \n",
    "        drag_term = float(convert(characters))\n",
    "        drag_term_list.append(drag_term)\n",
    "    else:\n",
    "        drag_term = num\n",
    "        drag_term_list.append(drag_term)\n",
    "    \n",
    "    tle_line3_ = tle_line3.split()\n",
    "    \n",
    "    # NORAD_ID\n",
    "    norad_id = tle_line3_[1]\n",
    "    NORAD_id_list.append(norad_id)\n",
    "    \n",
    "    # INCLINATION(i)\n",
    "    inclination = float(tle_line3_[2])\n",
    "    inclination_list.append(inclination)\n",
    "    \n",
    "    # RIGHT ASCENSION OF THE ASCENDING NODE(omega)\n",
    "    right_ascension_ascending_node = float(tle_line3_[3])\n",
    "    right_ascension_ascending_node_list.append(right_ascension_ascending_node)\n",
    "    \n",
    "    # ECCENTRICITY(e)\n",
    "    eccentricity = float(tle_line3_[4])*(10**-7)\n",
    "    eccentricity_list.append(eccentricity)\n",
    "    \n",
    "    # ARGUMENT OF PERIGEE()\n",
    "    argument_perigee = float(tle_line3_[5])\n",
    "    argument_perigee_list.append(argument_perigee)\n",
    "    \n",
    "    # MEAN ANOMANLY(M)\n",
    "    mean_anomaly = float(tle_line3_[6])\n",
    "    mean_anomaly_list.append(mean_anomaly)\n",
    "    \n",
    "    # MEAN MOTION(n)\n",
    "    mean_motion = float(tle_line3_[7])\n",
    "    mean_motion_list.append(mean_motion)\n",
    "    \n",
    "    # REVOLUTION(rev)\n",
    "    mean_motion = mean_motion*(10**16)\n",
    "    mean_motion = mean_motion%1000000\n",
    "    mean_motion = int(mean_motion/10)\n",
    "    revolution = mean_motion\n",
    "    revolution_list.append(revolution)\n"
   ]
  },
  {
   "cell_type": "code",
   "execution_count": 19,
   "metadata": {
    "colab": {
     "base_uri": "https://localhost:8080/"
    },
    "executionInfo": {
     "elapsed": 39,
     "status": "ok",
     "timestamp": 1632741332612,
     "user": {
      "displayName": "Aaryansh Mohan Bansal",
      "photoUrl": "https://lh3.googleusercontent.com/a-/AOh14Ghi3BY2z4TJj9tLxHingTikg46M5njHUxFzDCKQeg=s64",
      "userId": "06585114614514006883"
     },
     "user_tz": -330
    },
    "id": "KWOZbD9vSlr6",
    "outputId": "777049c8-aa9e-463b-fcd5-d9ec679eed80"
   },
   "outputs": [
    {
     "name": "stdout",
     "output_type": "stream",
     "text": [
      "WGS84 latitude +nan N longitude nan E elevation nan m\n"
     ]
    },
    {
     "name": "stderr",
     "output_type": "stream",
     "text": [
      "/usr/local/lib/python3.7/dist-packages/skyfield/toposlib.py:198: RuntimeWarning: invalid value encountered in double_scalars\n",
      "  lon = (arctan2(y, x) - pi) % tau - pi\n"
     ]
    }
   ],
   "source": [
    "# other derived params from tles\n",
    "from skyfield.api import EarthSatellite\n",
    "\n",
    "ts = load.timescale()\n",
    "satellite = EarthSatellite(tle_line1, tle_line2, object_name_, ts)\n",
    "year = 2014\n",
    "month = 1\n",
    "date = 23\n",
    "hour = 12\n",
    "min = 12\n",
    "sec = 12\n",
    "t = ts.utc(year, month, date, hour, min, sec)\n",
    "geocentric = satellite.at(t)\n",
    "subpoint = wgs84.subpoint(geocentric)\n",
    "print(subpoint)"
   ]
  },
  {
   "cell_type": "code",
   "execution_count": 20,
   "metadata": {
    "colab": {
     "base_uri": "https://localhost:8080/",
     "height": 504
    },
    "executionInfo": {
     "elapsed": 25,
     "status": "ok",
     "timestamp": 1632741332615,
     "user": {
      "displayName": "Aaryansh Mohan Bansal",
      "photoUrl": "https://lh3.googleusercontent.com/a-/AOh14Ghi3BY2z4TJj9tLxHingTikg46M5njHUxFzDCKQeg=s64",
      "userId": "06585114614514006883"
     },
     "user_tz": -330
    },
    "id": "5bIJeaVhykCW",
    "outputId": "4b9645d2-6c4e-428f-fe8d-4a104958c85c"
   },
   "outputs": [
    {
     "data": {
      "text/html": [
       "<div>\n",
       "<style scoped>\n",
       "    .dataframe tbody tr th:only-of-type {\n",
       "        vertical-align: middle;\n",
       "    }\n",
       "\n",
       "    .dataframe tbody tr th {\n",
       "        vertical-align: top;\n",
       "    }\n",
       "\n",
       "    .dataframe thead th {\n",
       "        text-align: right;\n",
       "    }\n",
       "</style>\n",
       "<table border=\"1\" class=\"dataframe\">\n",
       "  <thead>\n",
       "    <tr style=\"text-align: right;\">\n",
       "      <th></th>\n",
       "      <th>OBJECT_NAME</th>\n",
       "      <th>NORAD_ID</th>\n",
       "      <th>YEAR LAUNCH</th>\n",
       "      <th>EPOCH</th>\n",
       "      <th>INCLINATION(i)</th>\n",
       "      <th>RIGHT ASCENSION ASCENDING NODE(w)</th>\n",
       "      <th>ECCENTRICITY(e)</th>\n",
       "      <th>ARGUMENT PERIGEE(omega)</th>\n",
       "      <th>FIRST DERIVATIVE MEAN MOTION(n_dot)</th>\n",
       "      <th>SECOND DERIVATIVE MEAN MOTION(n_ddot)</th>\n",
       "      <th>MEAN ANOMALY(M)</th>\n",
       "      <th>MEAN MOTION(n)</th>\n",
       "      <th>DRAG TERM(B*)</th>\n",
       "      <th>REVOLUTION(rev)</th>\n",
       "      <th>TLE_FIRST_LINES</th>\n",
       "      <th>TLE_SECOND_LINES</th>\n",
       "      <th>TLE_THIRD_LINES</th>\n",
       "    </tr>\n",
       "  </thead>\n",
       "  <tbody>\n",
       "    <tr>\n",
       "      <th>0</th>\n",
       "      <td>VANGUARD 1</td>\n",
       "      <td>5</td>\n",
       "      <td>58002B</td>\n",
       "      <td>21042.550355</td>\n",
       "      <td>34.2457</td>\n",
       "      <td>211.6733</td>\n",
       "      <td>0.184707</td>\n",
       "      <td>348.3317</td>\n",
       "      <td>-8.900000e-07</td>\n",
       "      <td>0.0</td>\n",
       "      <td>7.9494</td>\n",
       "      <td>10.848569</td>\n",
       "      <td>-10.5760</td>\n",
       "      <td>13249</td>\n",
       "      <td>0 VANGUARD 1</td>\n",
       "      <td>1     5U 58002B   21042.55035550 -.00000089  0...</td>\n",
       "      <td>2     5  34.2457 211.6733 1847075 348.3317   7...</td>\n",
       "    </tr>\n",
       "    <tr>\n",
       "      <th>1</th>\n",
       "      <td>VANGUARD 2</td>\n",
       "      <td>00011</td>\n",
       "      <td>59001A</td>\n",
       "      <td>21042.875208</td>\n",
       "      <td>32.8652</td>\n",
       "      <td>236.4804</td>\n",
       "      <td>0.146771</td>\n",
       "      <td>163.1695</td>\n",
       "      <td>2.500000e-06</td>\n",
       "      <td>0.0</td>\n",
       "      <td>202.3396</td>\n",
       "      <td>11.857480</td>\n",
       "      <td>12.3720</td>\n",
       "      <td>34028</td>\n",
       "      <td>0 VANGUARD 2</td>\n",
       "      <td>1 00011U 59001A   21042.87520771  .00000250  0...</td>\n",
       "      <td>2 00011  32.8652 236.4804 1467709 163.1695 202...</td>\n",
       "    </tr>\n",
       "    <tr>\n",
       "      <th>2</th>\n",
       "      <td>VANGUARD 3</td>\n",
       "      <td>20</td>\n",
       "      <td>59007A</td>\n",
       "      <td>21043.437696</td>\n",
       "      <td>33.3449</td>\n",
       "      <td>47.0561</td>\n",
       "      <td>0.166567</td>\n",
       "      <td>99.8465</td>\n",
       "      <td>4.900000e-07</td>\n",
       "      <td>0.0</td>\n",
       "      <td>279.3422</td>\n",
       "      <td>11.557979</td>\n",
       "      <td>2.6295</td>\n",
       "      <td>84140</td>\n",
       "      <td>0 VANGUARD 3</td>\n",
       "      <td>1    20U 59007A   21043.43769585  .00000049  0...</td>\n",
       "      <td>2    20  33.3449  47.0561 1665671  99.8465 279...</td>\n",
       "    </tr>\n",
       "    <tr>\n",
       "      <th>3</th>\n",
       "      <td>EXPLORER 7</td>\n",
       "      <td>00022</td>\n",
       "      <td>59009A</td>\n",
       "      <td>21042.889513</td>\n",
       "      <td>50.2840</td>\n",
       "      <td>58.4215</td>\n",
       "      <td>0.013875</td>\n",
       "      <td>93.7045</td>\n",
       "      <td>-1.600000e-07</td>\n",
       "      <td>0.0</td>\n",
       "      <td>267.9779</td>\n",
       "      <td>14.954023</td>\n",
       "      <td>2.2213</td>\n",
       "      <td>61910</td>\n",
       "      <td>0 EXPLORER 7</td>\n",
       "      <td>1 00022U 59009A   21042.88951290 -.00000016  0...</td>\n",
       "      <td>2 00022  50.2840  58.4215 0138746  93.7045 267...</td>\n",
       "    </tr>\n",
       "    <tr>\n",
       "      <th>4</th>\n",
       "      <td>TIROS 1</td>\n",
       "      <td>00029</td>\n",
       "      <td>60002B</td>\n",
       "      <td>21042.696355</td>\n",
       "      <td>48.3785</td>\n",
       "      <td>259.5211</td>\n",
       "      <td>0.002395</td>\n",
       "      <td>177.0037</td>\n",
       "      <td>-1.170000e-06</td>\n",
       "      <td>0.0</td>\n",
       "      <td>183.1022</td>\n",
       "      <td>14.744034</td>\n",
       "      <td>1.3635</td>\n",
       "      <td>38438</td>\n",
       "      <td>0 TIROS 1</td>\n",
       "      <td>1 00029U 60002B   21042.69635468 -.00000117  0...</td>\n",
       "      <td>2 00029  48.3785 259.5211 0023954 177.0037 183...</td>\n",
       "    </tr>\n",
       "  </tbody>\n",
       "</table>\n",
       "</div>"
      ],
      "text/plain": [
       "   OBJECT_NAME  ...                                    TLE_THIRD_LINES\n",
       "0   VANGUARD 1  ...  2     5  34.2457 211.6733 1847075 348.3317   7...\n",
       "1   VANGUARD 2  ...  2 00011  32.8652 236.4804 1467709 163.1695 202...\n",
       "2   VANGUARD 3  ...  2    20  33.3449  47.0561 1665671  99.8465 279...\n",
       "3   EXPLORER 7  ...  2 00022  50.2840  58.4215 0138746  93.7045 267...\n",
       "4      TIROS 1  ...  2 00029  48.3785 259.5211 0023954 177.0037 183...\n",
       "\n",
       "[5 rows x 17 columns]"
      ]
     },
     "execution_count": 20,
     "metadata": {},
     "output_type": "execute_result"
    }
   ],
   "source": [
    "#MAKE CSV FROM ABOVE DATASHEET\n",
    "\n",
    "dict = {\n",
    "        'OBJECT_NAME':object_name, \n",
    "        'NORAD_ID':NORAD_id_list, \n",
    "        'YEAR LAUNCH': year_of_launch_list,\n",
    "        'EPOCH':epoch_list,\n",
    "        'INCLINATION(i)': inclination_list,\n",
    "        'RIGHT ASCENSION ASCENDING NODE(w)':right_ascension_ascending_node_list,\n",
    "        'ECCENTRICITY(e)': eccentricity_list, \n",
    "        'ARGUMENT PERIGEE(omega)': argument_perigee_list, \n",
    "        'FIRST DERIVATIVE MEAN MOTION(n_dot)': first_derivative_mean_motion_list,\n",
    "        'SECOND DERIVATIVE MEAN MOTION(n_ddot)': second_derivative_mean_motion_list, \n",
    "        'MEAN ANOMALY(M)': mean_anomaly_list, \n",
    "        'MEAN MOTION(n)': mean_motion_list, \n",
    "        'DRAG TERM(B*)':drag_term_list,\n",
    "        'REVOLUTION(rev)':revolution_list,\n",
    "        'TLE_FIRST_LINES': tle_line1_list,\n",
    "        'TLE_SECOND_LINES': tle_line2_list,\n",
    "        'TLE_THIRD_LINES': tle_line3_list\n",
    "       }\n",
    "                  \n",
    "\n",
    "dframe = pd.DataFrame(dict)   \n",
    "dframe.to_csv('data(1)/filtered_elset.csv')\n",
    "dframe.head()"
   ]
  },
  {
   "cell_type": "code",
   "execution_count": 21,
   "metadata": {
    "colab": {
     "base_uri": "https://localhost:8080/"
    },
    "executionInfo": {
     "elapsed": 21,
     "status": "ok",
     "timestamp": 1632741332617,
     "user": {
      "displayName": "Aaryansh Mohan Bansal",
      "photoUrl": "https://lh3.googleusercontent.com/a-/AOh14Ghi3BY2z4TJj9tLxHingTikg46M5njHUxFzDCKQeg=s64",
      "userId": "06585114614514006883"
     },
     "user_tz": -330
    },
    "id": "p0H5jc_hy71Q",
    "outputId": "ea903122-352d-431e-c0e7-ff8d98beb8f8"
   },
   "outputs": [
    {
     "name": "stdout",
     "output_type": "stream",
     "text": [
      "(6952, 17)\n"
     ]
    }
   ],
   "source": [
    "print(dframe.shape)"
   ]
  },
  {
   "cell_type": "code",
   "execution_count": 21,
   "metadata": {
    "executionInfo": {
     "elapsed": 17,
     "status": "ok",
     "timestamp": 1632741332619,
     "user": {
      "displayName": "Aaryansh Mohan Bansal",
      "photoUrl": "https://lh3.googleusercontent.com/a-/AOh14Ghi3BY2z4TJj9tLxHingTikg46M5njHUxFzDCKQeg=s64",
      "userId": "06585114614514006883"
     },
     "user_tz": -330
    },
    "id": "-d4sZoYQzTZo"
   },
   "outputs": [],
   "source": []
  }
 ],
 "metadata": {
  "colab": {
   "authorship_tag": "ABX9TyNo+GjMvx4/5ox/Nc0VZBbl",
   "collapsed_sections": [],
   "name": "filtered_data_gen.ipynb",
   "provenance": []
  },
  "kernelspec": {
   "display_name": "Python 3",
   "language": "python",
   "name": "python3"
  },
  "language_info": {
   "codemirror_mode": {
    "name": "ipython",
    "version": 3
   },
   "file_extension": ".py",
   "mimetype": "text/x-python",
   "name": "python",
   "nbconvert_exporter": "python",
   "pygments_lexer": "ipython3",
   "version": "3.8.10"
  }
 },
 "nbformat": 4,
 "nbformat_minor": 1
}
