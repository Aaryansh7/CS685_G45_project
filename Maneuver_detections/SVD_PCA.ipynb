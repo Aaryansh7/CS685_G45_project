{
 "cells": [
  {
   "cell_type": "code",
   "execution_count": 93,
   "metadata": {
    "executionInfo": {
     "elapsed": 666,
     "status": "ok",
     "timestamp": 1631567831441,
     "user": {
      "displayName": "Aaryansh Mohan Bansal",
      "photoUrl": "https://lh3.googleusercontent.com/a-/AOh14Ghi3BY2z4TJj9tLxHingTikg46M5njHUxFzDCKQeg=s64",
      "userId": "06585114614514006883"
     },
     "user_tz": -330
    },
    "id": "gS7wvEjt2Ld2"
   },
   "outputs": [],
   "source": [
    "# Imports\n",
    "import numpy as np\n",
    "import pandas as pd\n",
    "from tqdm import tqdm  \n",
    "import random\n",
    "from sklearn.preprocessing import StandardScaler\n",
    "%matplotlib inline               \n",
    "import matplotlib.pyplot as plt"
   ]
  },
  {
   "cell_type": "code",
   "execution_count": null,
   "metadata": {},
   "outputs": [],
   "source": [
    "## LINK TO DATA FOLDER:-https://drive.google.com/drive/folders/1HExaz_W_dHEDSngdqHxW9UAyMazoX6ab?usp=sharing\n",
    "\n",
    "## Please add it to the same folder as-\"Maneuver_Detections\""
   ]
  },
  {
   "cell_type": "code",
   "execution_count": 94,
   "metadata": {
    "executionInfo": {
     "elapsed": 18,
     "status": "ok",
     "timestamp": 1631567831442,
     "user": {
      "displayName": "Aaryansh Mohan Bansal",
      "photoUrl": "https://lh3.googleusercontent.com/a-/AOh14Ghi3BY2z4TJj9tLxHingTikg46M5njHUxFzDCKQeg=s64",
      "userId": "06585114614514006883"
     },
     "user_tz": -330
    },
    "id": "ojg692hF2P4l"
   },
   "outputs": [],
   "source": [
    "# Load the TLE data from drive\n",
    "recent_elset_data = open('data(1)/recent_elset.tle', 'r') \n"
   ]
  },
  {
   "cell_type": "code",
   "execution_count": 95,
   "metadata": {
    "executionInfo": {
     "elapsed": 17,
     "status": "ok",
     "timestamp": 1631567831443,
     "user": {
      "displayName": "Aaryansh Mohan Bansal",
      "photoUrl": "https://lh3.googleusercontent.com/a-/AOh14Ghi3BY2z4TJj9tLxHingTikg46M5njHUxFzDCKQeg=s64",
      "userId": "06585114614514006883"
     },
     "user_tz": -330
    },
    "id": "frYVbGn03PRf"
   },
   "outputs": [],
   "source": [
    "TLE_first_lines = []\n",
    "TLE_second_lines = []\n",
    "TLE_third_lines = []\n",
    "\n",
    "while True: \n",
    "    # Get next line\n",
    "    line = recent_elset_data.readline()\n",
    "    if not line: \n",
    "        break\n",
    "\n",
    "    TLE_first_lines.append(line.strip())\n",
    "\n",
    "    line = recent_elset_data.readline()\n",
    "    TLE_second_lines.append(line.strip())\n",
    "\n",
    "    line = recent_elset_data.readline()\n",
    "    TLE_third_lines.append(line.strip())\n",
    "  \n",
    "recent_elset_data.close()"
   ]
  },
  {
   "cell_type": "code",
   "execution_count": 96,
   "metadata": {
    "executionInfo": {
     "elapsed": 16,
     "status": "ok",
     "timestamp": 1631567831443,
     "user": {
      "displayName": "Aaryansh Mohan Bansal",
      "photoUrl": "https://lh3.googleusercontent.com/a-/AOh14Ghi3BY2z4TJj9tLxHingTikg46M5njHUxFzDCKQeg=s64",
      "userId": "06585114614514006883"
     },
     "user_tz": -330
    },
    "id": "nv6Oweev3cux"
   },
   "outputs": [],
   "source": [
    "def split(word):\n",
    "    return [char for char in word]\n",
    "\n",
    "# Python program to convert a list\n",
    "# of character  \n",
    "def convert(s):\n",
    "  \n",
    "    # initialization of string to \"\"\n",
    "    new = \"\"\n",
    "  \n",
    "    # traverse in the string \n",
    "    for x in s:\n",
    "        new += x \n",
    "  \n",
    "    # return string \n",
    "    return new"
   ]
  },
  {
   "cell_type": "code",
   "execution_count": 97,
   "metadata": {
    "colab": {
     "base_uri": "https://localhost:8080/"
    },
    "executionInfo": {
     "elapsed": 754,
     "status": "ok",
     "timestamp": 1631567832183,
     "user": {
      "displayName": "Aaryansh Mohan Bansal",
      "photoUrl": "https://lh3.googleusercontent.com/a-/AOh14Ghi3BY2z4TJj9tLxHingTikg46M5njHUxFzDCKQeg=s64",
      "userId": "06585114614514006883"
     },
     "user_tz": -330
    },
    "id": "Gt8Fs1Ym3ft2",
    "outputId": "958389e6-4805-41ad-e480-310eecc03054"
   },
   "outputs": [
    {
     "name": "stderr",
     "output_type": "stream",
     "text": [
      "100%|██████████| 20765/20765 [00:00<00:00, 59475.70it/s]\n"
     ]
    }
   ],
   "source": [
    "object_name = []\n",
    "NORAD_id_list = []\n",
    "epoch_list = []\n",
    "inclination_list = []\n",
    "right_ascension_ascending_node_list = []\n",
    "eccentricity_list = []\n",
    "argument_perigee_list = []\n",
    "first_derivative_mean_motion_list = []\n",
    "second_derivative_mean_motion_list = []\n",
    "mean_anomaly_list =[]\n",
    "mean_motion_list = []\n",
    "drag_term_list = []\n",
    "revolution_list = []\n",
    "year_of_launch_list = []\n",
    "\n",
    "DEB_label_list = [] \n",
    "\n",
    "\n",
    "for i in tqdm(range(len(TLE_first_lines))):\n",
    "    tle_line1 = TLE_first_lines[i]\n",
    "    tle_line2 = TLE_second_lines[i]\n",
    "    tle_line3 = TLE_third_lines[i]\n",
    "    \n",
    "    #Object name\n",
    "    object_name.append(tle_line1)\n",
    "    \n",
    "    # DEB_label\n",
    "    DEB_label_list.append(0) # by default we assume no deb\n",
    "    tle_line1_ = tle_line1.split()\n",
    "    for j in range(len(tle_line1_)):\n",
    "        if tle_line1_[j]==\"DEB\" or tle_line1_[j] == 'R/B' or tle_line1_[j] == 'COOLANT' or tle_line1[j] == 'FUEL CORE':\n",
    "            DEB_label_list[i] = 1\n",
    "            break\n",
    "    \n",
    "    tle_line2_ = tle_line2.split()\n",
    "        \n",
    "    # YEAR_OF LAUNCH\n",
    "    year_of_launch = tle_line2_[2]\n",
    "    year_of_launch_list.append(year_of_launch)\n",
    "    \n",
    "    #EPOCH\n",
    "    epoch = float(tle_line2_[3])\n",
    "    epoch_list.append(epoch)\n",
    "    \n",
    "    # FIRST DERIVATIVE MEAN MOTION(n_dot)\n",
    "    first_derivative_mean_motion = tle_line2_[4]\n",
    "    characters = split(first_derivative_mean_motion)\n",
    "    flag = 0\n",
    "    num = None\n",
    "    if characters[0]==\"-\":\n",
    "        characters[0] = \"-0\"\n",
    "    elif characters[0]==\"+\":\n",
    "        characters[0]= \"+0\"\n",
    "        \n",
    "    if characters[-2]==\"-\":\n",
    "        num1 = float(convert(characters[:-2]))\n",
    "        power = -float(characters[-1])\n",
    "        num = num1*(10**power)\n",
    "        flag = 1\n",
    "        \n",
    "    if characters[-2]==\"+\":\n",
    "        num1 = float(convert(characters[:-2]))\n",
    "        power = +float(characters[-1])\n",
    "        num = num1*(10**power)\n",
    "        flag = 1\n",
    "        \n",
    "    if flag==0:   \n",
    "        first_derivative_mean_motion = float(convert(characters))\n",
    "        first_derivative_mean_motion_list.append(first_derivative_mean_motion)\n",
    "    else:\n",
    "        first_derivative_mean_motion = num\n",
    "        first_derivative_mean_motion_list.append(first_derivative_mean_motion)\n",
    "        \n",
    "    \n",
    "    # SECOND DERIVATIVE MEAN MOTION(n_ddot)\n",
    "    second_derivative_mean_motion = tle_line2_[5]\n",
    "    characters = split(second_derivative_mean_motion)\n",
    "    flag = 0\n",
    "    num = None\n",
    "    if characters[0]==\"-\":\n",
    "        characters[0] = \"-0\"\n",
    "    elif characters[0]==\"+\":\n",
    "        characters[0]= \"+0\"\n",
    "        \n",
    "    if characters[-2]==\"-\":\n",
    "        num1 = float(convert(characters[:-2]))\n",
    "        power = -float(characters[-1])\n",
    "        num = num1*(10**power)\n",
    "        flag = 1\n",
    "        \n",
    "    if characters[-2]==\"+\":\n",
    "        num1 = float(convert(characters[:-2]))\n",
    "        power = +float(characters[-1])\n",
    "        num = num1*(10**power)\n",
    "        flag = 1\n",
    "        \n",
    "    if flag==0:   \n",
    "        second_derivative_mean_motion = float(convert(characters))\n",
    "        first_derivative_mean_motion_list.append(first_derivative_mean_motion)\n",
    "    else:\n",
    "        second_derivative_mean_motion = num\n",
    "        second_derivative_mean_motion_list.append(second_derivative_mean_motion)\n",
    "    \n",
    "    # DRAG TERM(B*)\n",
    "    drag_term = tle_line2_[6]\n",
    "    characters = split(drag_term)\n",
    "    flag = 0\n",
    "    num = None\n",
    "    if characters[0]==\"-\":\n",
    "        characters[0] = \"-0\"\n",
    "    elif characters[0]==\"+\":\n",
    "        characters[0]= \"+0\"\n",
    "        \n",
    "    if len(characters)>=2 and characters[-2]==\"-\":\n",
    "        num1 = float(convert(characters[:-2]))\n",
    "        power = -float(characters[-1])\n",
    "        num = num1*(10**power)\n",
    "        flag = 1\n",
    "        \n",
    "    if len(characters)>=2 and characters[-2]==\"+\":\n",
    "        num1 = float(convert(characters[:-2]))\n",
    "        power = +float(characters[-1])\n",
    "        num = num1*(10**power)\n",
    "        flag = 1\n",
    "        \n",
    "    if flag==0:   \n",
    "        drag_term = float(convert(characters))\n",
    "        drag_term_list.append(drag_term)\n",
    "    else:\n",
    "        drag_term = num\n",
    "        drag_term_list.append(drag_term)\n",
    "    \n",
    "    tle_line3_ = tle_line3.split()\n",
    "    \n",
    "    # NORAD_ID\n",
    "    norad_id = tle_line3_[1]\n",
    "    NORAD_id_list.append(norad_id)\n",
    "    \n",
    "    # INCLINATION(i)\n",
    "    inclination = float(tle_line3_[2])\n",
    "    inclination_list.append(inclination)\n",
    "    \n",
    "    # RIGHT ASCENSION OF THE ASCENDING NODE(omega)\n",
    "    right_ascension_ascending_node = float(tle_line3_[3])\n",
    "    right_ascension_ascending_node_list.append(right_ascension_ascending_node)\n",
    "    \n",
    "    # ECCENTRICITY(e)\n",
    "    eccentricity = float(tle_line3_[4])*(10**-7)\n",
    "    eccentricity_list.append(eccentricity)\n",
    "    \n",
    "    # ARGUMENT OF PERIGEE()\n",
    "    argument_perigee = float(tle_line3_[5])\n",
    "    argument_perigee_list.append(argument_perigee)\n",
    "    \n",
    "    # MEAN ANOMANLY(M)\n",
    "    mean_anomaly = float(tle_line3_[6])\n",
    "    mean_anomaly_list.append(mean_anomaly)\n",
    "    \n",
    "    # MEAN MOTION(n)\n",
    "    mean_motion = float(tle_line3_[7])\n",
    "    mean_motion_list.append(mean_motion)\n",
    "    \n",
    "    # REVOLUTION(rev)\n",
    "    mean_motion = mean_motion*(10**16)\n",
    "    mean_motion = mean_motion%1000000\n",
    "    mean_motion = int(mean_motion/10)\n",
    "    revolution = mean_motion\n",
    "    revolution_list.append(revolution)\n",
    "    \n",
    "        "
   ]
  },
  {
   "cell_type": "code",
   "execution_count": 98,
   "metadata": {
    "executionInfo": {
     "elapsed": 27,
     "status": "ok",
     "timestamp": 1631567832184,
     "user": {
      "displayName": "Aaryansh Mohan Bansal",
      "photoUrl": "https://lh3.googleusercontent.com/a-/AOh14Ghi3BY2z4TJj9tLxHingTikg46M5njHUxFzDCKQeg=s64",
      "userId": "06585114614514006883"
     },
     "user_tz": -330
    },
    "id": "UQzIdn-U3iiX"
   },
   "outputs": [],
   "source": [
    "#MAKE CSV FROM ABOVE DATASHEET\n",
    "\n",
    "dict = {\n",
    "        'OBJECT_NAME':object_name, \n",
    "        'NORAD_ID':NORAD_id_list, \n",
    "        'YEAR LAUNCH': year_of_launch_list,\n",
    "        'EPOCH':epoch_list,\n",
    "        'INCLINATION(i)': inclination_list,\n",
    "        'RIGHT ASCENSION ASCENDING NODE(w)':right_ascension_ascending_node_list,\n",
    "        'ECCENTRICITY(e)': eccentricity_list, \n",
    "        'ARGUMENT PERIGEE(omega)': argument_perigee_list, \n",
    "        'FIRST DERIVATIVE MEAN MOTION(n_dot)': first_derivative_mean_motion_list,\n",
    "        'SECOND DERIVATIVE MEAN MOTION(n_ddot)': second_derivative_mean_motion_list, \n",
    "        'MEAN ANOMALY(M)': mean_anomaly_list, \n",
    "        'MEAN MOTION(n)': mean_motion_list, \n",
    "        'DRAG TERM(B*)':drag_term_list,\n",
    "        'REVOLUTION(rev)':revolution_list,\n",
    "        'DEB_LABELS': DEB_label_list\n",
    "       }\n",
    "                  \n",
    "\n",
    "dframe = pd.DataFrame(dict)   \n",
    "dframe.to_csv('/content/drive/MyDrive/SSA/data/recent_elset.csv')\n"
   ]
  },
  {
   "cell_type": "code",
   "execution_count": 99,
   "metadata": {
    "colab": {
     "base_uri": "https://localhost:8080/",
     "height": 360
    },
    "executionInfo": {
     "elapsed": 27,
     "status": "ok",
     "timestamp": 1631567832185,
     "user": {
      "displayName": "Aaryansh Mohan Bansal",
      "photoUrl": "https://lh3.googleusercontent.com/a-/AOh14Ghi3BY2z4TJj9tLxHingTikg46M5njHUxFzDCKQeg=s64",
      "userId": "06585114614514006883"
     },
     "user_tz": -330
    },
    "id": "aRusoyLp37Tx",
    "outputId": "191dde3e-8306-4a72-8204-3e1cd06fbf42"
   },
   "outputs": [
    {
     "data": {
      "text/html": [
       "<div>\n",
       "<style scoped>\n",
       "    .dataframe tbody tr th:only-of-type {\n",
       "        vertical-align: middle;\n",
       "    }\n",
       "\n",
       "    .dataframe tbody tr th {\n",
       "        vertical-align: top;\n",
       "    }\n",
       "\n",
       "    .dataframe thead th {\n",
       "        text-align: right;\n",
       "    }\n",
       "</style>\n",
       "<table border=\"1\" class=\"dataframe\">\n",
       "  <thead>\n",
       "    <tr style=\"text-align: right;\">\n",
       "      <th></th>\n",
       "      <th>OBJECT_NAME</th>\n",
       "      <th>NORAD_ID</th>\n",
       "      <th>YEAR LAUNCH</th>\n",
       "      <th>EPOCH</th>\n",
       "      <th>INCLINATION(i)</th>\n",
       "      <th>RIGHT ASCENSION ASCENDING NODE(w)</th>\n",
       "      <th>ECCENTRICITY(e)</th>\n",
       "      <th>ARGUMENT PERIGEE(omega)</th>\n",
       "      <th>FIRST DERIVATIVE MEAN MOTION(n_dot)</th>\n",
       "      <th>SECOND DERIVATIVE MEAN MOTION(n_ddot)</th>\n",
       "      <th>MEAN ANOMALY(M)</th>\n",
       "      <th>MEAN MOTION(n)</th>\n",
       "      <th>DRAG TERM(B*)</th>\n",
       "      <th>REVOLUTION(rev)</th>\n",
       "      <th>DEB_LABELS</th>\n",
       "    </tr>\n",
       "  </thead>\n",
       "  <tbody>\n",
       "    <tr>\n",
       "      <th>0</th>\n",
       "      <td>0 VANGUARD 1</td>\n",
       "      <td>5</td>\n",
       "      <td>58002B</td>\n",
       "      <td>21042.550355</td>\n",
       "      <td>34.2457</td>\n",
       "      <td>211.6733</td>\n",
       "      <td>0.184707</td>\n",
       "      <td>348.3317</td>\n",
       "      <td>-8.900000e-07</td>\n",
       "      <td>0.0</td>\n",
       "      <td>7.9494</td>\n",
       "      <td>10.848569</td>\n",
       "      <td>-10.5760</td>\n",
       "      <td>13249</td>\n",
       "      <td>0</td>\n",
       "    </tr>\n",
       "    <tr>\n",
       "      <th>1</th>\n",
       "      <td>0 VANGUARD 2</td>\n",
       "      <td>00011</td>\n",
       "      <td>59001A</td>\n",
       "      <td>21042.875208</td>\n",
       "      <td>32.8652</td>\n",
       "      <td>236.4804</td>\n",
       "      <td>0.146771</td>\n",
       "      <td>163.1695</td>\n",
       "      <td>2.500000e-06</td>\n",
       "      <td>0.0</td>\n",
       "      <td>202.3396</td>\n",
       "      <td>11.857480</td>\n",
       "      <td>12.3720</td>\n",
       "      <td>34028</td>\n",
       "      <td>0</td>\n",
       "    </tr>\n",
       "    <tr>\n",
       "      <th>2</th>\n",
       "      <td>0 VANGUARD R/B</td>\n",
       "      <td>12</td>\n",
       "      <td>59001B</td>\n",
       "      <td>21043.485580</td>\n",
       "      <td>32.9086</td>\n",
       "      <td>231.1096</td>\n",
       "      <td>0.166686</td>\n",
       "      <td>257.9454</td>\n",
       "      <td>9.700000e-07</td>\n",
       "      <td>0.0</td>\n",
       "      <td>83.0223</td>\n",
       "      <td>11.443932</td>\n",
       "      <td>3.5182</td>\n",
       "      <td>548</td>\n",
       "      <td>0</td>\n",
       "    </tr>\n",
       "    <tr>\n",
       "      <th>3</th>\n",
       "      <td>0 VANGUARD R/B</td>\n",
       "      <td>00016</td>\n",
       "      <td>58002A</td>\n",
       "      <td>21042.694439</td>\n",
       "      <td>34.2578</td>\n",
       "      <td>183.9708</td>\n",
       "      <td>0.202246</td>\n",
       "      <td>166.4147</td>\n",
       "      <td>2.400000e-07</td>\n",
       "      <td>0.0</td>\n",
       "      <td>200.0337</td>\n",
       "      <td>10.486923</td>\n",
       "      <td>2.9897</td>\n",
       "      <td>39499</td>\n",
       "      <td>0</td>\n",
       "    </tr>\n",
       "    <tr>\n",
       "      <th>4</th>\n",
       "      <td>0 VANGUARD 3</td>\n",
       "      <td>20</td>\n",
       "      <td>59007A</td>\n",
       "      <td>21043.437696</td>\n",
       "      <td>33.3449</td>\n",
       "      <td>47.0561</td>\n",
       "      <td>0.166567</td>\n",
       "      <td>99.8465</td>\n",
       "      <td>4.900000e-07</td>\n",
       "      <td>0.0</td>\n",
       "      <td>279.3422</td>\n",
       "      <td>11.557979</td>\n",
       "      <td>2.6295</td>\n",
       "      <td>84140</td>\n",
       "      <td>0</td>\n",
       "    </tr>\n",
       "  </tbody>\n",
       "</table>\n",
       "</div>"
      ],
      "text/plain": [
       "      OBJECT_NAME NORAD_ID  ... REVOLUTION(rev)  DEB_LABELS\n",
       "0    0 VANGUARD 1        5  ...           13249           0\n",
       "1    0 VANGUARD 2    00011  ...           34028           0\n",
       "2  0 VANGUARD R/B       12  ...             548           0\n",
       "3  0 VANGUARD R/B    00016  ...           39499           0\n",
       "4    0 VANGUARD 3       20  ...           84140           0\n",
       "\n",
       "[5 rows x 15 columns]"
      ]
     },
     "execution_count": 99,
     "metadata": {},
     "output_type": "execute_result"
    }
   ],
   "source": [
    "dframe.head()"
   ]
  },
  {
   "cell_type": "code",
   "execution_count": 100,
   "metadata": {
    "colab": {
     "base_uri": "https://localhost:8080/",
     "height": 221
    },
    "executionInfo": {
     "elapsed": 27,
     "status": "ok",
     "timestamp": 1631567832186,
     "user": {
      "displayName": "Aaryansh Mohan Bansal",
      "photoUrl": "https://lh3.googleusercontent.com/a-/AOh14Ghi3BY2z4TJj9tLxHingTikg46M5njHUxFzDCKQeg=s64",
      "userId": "06585114614514006883"
     },
     "user_tz": -330
    },
    "id": "fxhnmmNi4S8e",
    "outputId": "2bf5d8a4-07ac-4db4-8460-4007887954e2"
   },
   "outputs": [
    {
     "data": {
      "text/html": [
       "<div>\n",
       "<style scoped>\n",
       "    .dataframe tbody tr th:only-of-type {\n",
       "        vertical-align: middle;\n",
       "    }\n",
       "\n",
       "    .dataframe tbody tr th {\n",
       "        vertical-align: top;\n",
       "    }\n",
       "\n",
       "    .dataframe thead th {\n",
       "        text-align: right;\n",
       "    }\n",
       "</style>\n",
       "<table border=\"1\" class=\"dataframe\">\n",
       "  <thead>\n",
       "    <tr style=\"text-align: right;\">\n",
       "      <th></th>\n",
       "      <th>INCLINATION(i)</th>\n",
       "      <th>RIGHT ASCENSION ASCENDING NODE(w)</th>\n",
       "      <th>ECCENTRICITY(e)</th>\n",
       "      <th>ARGUMENT PERIGEE(omega)</th>\n",
       "      <th>FIRST DERIVATIVE MEAN MOTION(n_dot)</th>\n",
       "      <th>SECOND DERIVATIVE MEAN MOTION(n_ddot)</th>\n",
       "      <th>MEAN ANOMALY(M)</th>\n",
       "      <th>MEAN MOTION(n)</th>\n",
       "      <th>DRAG TERM(B*)</th>\n",
       "      <th>REVOLUTION(rev)</th>\n",
       "    </tr>\n",
       "  </thead>\n",
       "  <tbody>\n",
       "    <tr>\n",
       "      <th>0</th>\n",
       "      <td>-1.251714</td>\n",
       "      <td>0.455001</td>\n",
       "      <td>0.605053</td>\n",
       "      <td>1.680974</td>\n",
       "      <td>-0.014189</td>\n",
       "      <td>-0.020346</td>\n",
       "      <td>-1.634418</td>\n",
       "      <td>-0.170555</td>\n",
       "      <td>0.011874</td>\n",
       "      <td>-0.703223</td>\n",
       "    </tr>\n",
       "    <tr>\n",
       "      <th>1</th>\n",
       "      <td>-1.297277</td>\n",
       "      <td>0.689813</td>\n",
       "      <td>0.399555</td>\n",
       "      <td>-0.100146</td>\n",
       "      <td>-0.013904</td>\n",
       "      <td>-0.020346</td>\n",
       "      <td>0.164270</td>\n",
       "      <td>0.037514</td>\n",
       "      <td>0.020108</td>\n",
       "      <td>-0.084917</td>\n",
       "    </tr>\n",
       "    <tr>\n",
       "      <th>2</th>\n",
       "      <td>-1.295845</td>\n",
       "      <td>0.638975</td>\n",
       "      <td>0.507434</td>\n",
       "      <td>0.811527</td>\n",
       "      <td>-0.014033</td>\n",
       "      <td>-0.020346</td>\n",
       "      <td>-0.939770</td>\n",
       "      <td>-0.047773</td>\n",
       "      <td>0.016931</td>\n",
       "      <td>-1.081157</td>\n",
       "    </tr>\n",
       "    <tr>\n",
       "      <th>3</th>\n",
       "      <td>-1.251314</td>\n",
       "      <td>0.192783</td>\n",
       "      <td>0.700055</td>\n",
       "      <td>-0.068930</td>\n",
       "      <td>-0.014094</td>\n",
       "      <td>-0.020346</td>\n",
       "      <td>0.142934</td>\n",
       "      <td>-0.245137</td>\n",
       "      <td>0.016741</td>\n",
       "      <td>0.077880</td>\n",
       "    </tr>\n",
       "    <tr>\n",
       "      <th>4</th>\n",
       "      <td>-1.281445</td>\n",
       "      <td>-1.103182</td>\n",
       "      <td>0.506789</td>\n",
       "      <td>-0.709266</td>\n",
       "      <td>-0.014073</td>\n",
       "      <td>-0.020346</td>\n",
       "      <td>0.876774</td>\n",
       "      <td>-0.024252</td>\n",
       "      <td>0.016612</td>\n",
       "      <td>1.406229</td>\n",
       "    </tr>\n",
       "  </tbody>\n",
       "</table>\n",
       "</div>"
      ],
      "text/plain": [
       "   INCLINATION(i)  ...  REVOLUTION(rev)\n",
       "0       -1.251714  ...        -0.703223\n",
       "1       -1.297277  ...        -0.084917\n",
       "2       -1.295845  ...        -1.081157\n",
       "3       -1.251314  ...         0.077880\n",
       "4       -1.281445  ...         1.406229\n",
       "\n",
       "[5 rows x 10 columns]"
      ]
     },
     "execution_count": 100,
     "metadata": {},
     "output_type": "execute_result"
    }
   ],
   "source": [
    "scalar = StandardScaler()\n",
    "scalar.fit(dframe.drop(['OBJECT_NAME', 'NORAD_ID', 'YEAR LAUNCH', 'EPOCH','DEB_LABELS'], axis=1))\n",
    "scaled_features = scalar.transform(dframe.drop(['OBJECT_NAME', 'NORAD_ID', 'YEAR LAUNCH', 'EPOCH','DEB_LABELS'], axis=1))\n",
    "dframe_features = pd.DataFrame(scaled_features, columns=dframe.columns[4:-1])\n",
    "dframe_features.head()"
   ]
  },
  {
   "cell_type": "code",
   "execution_count": 101,
   "metadata": {
    "colab": {
     "base_uri": "https://localhost:8080/"
    },
    "executionInfo": {
     "elapsed": 25,
     "status": "ok",
     "timestamp": 1631567832186,
     "user": {
      "displayName": "Aaryansh Mohan Bansal",
      "photoUrl": "https://lh3.googleusercontent.com/a-/AOh14Ghi3BY2z4TJj9tLxHingTikg46M5njHUxFzDCKQeg=s64",
      "userId": "06585114614514006883"
     },
     "user_tz": -330
    },
    "id": "gqqrJlXm7OcB",
    "outputId": "1be27472-9e93-4305-ca37-1e807a664473"
   },
   "outputs": [
    {
     "name": "stdout",
     "output_type": "stream",
     "text": [
      "[[-1.25171385  0.45500101  0.60505301 ... -0.1705549   0.01187373\n",
      "  -0.70322259]\n",
      " [-1.29727717  0.68981253  0.39955485 ...  0.03751389  0.02010752\n",
      "  -0.08491699]\n",
      " [-1.29584476  0.63897524  0.50743372 ... -0.0477725   0.01693076\n",
      "  -1.08115701]\n",
      " ...\n",
      " [ 0.97819898  0.26368062 -0.29385827 ...  0.26907667  0.01566842\n",
      "  -1.09746345]\n",
      " [ 0.33898569  1.56765022 -0.34120942 ...  0.10171958  0.01566842\n",
      "  -1.09746345]\n",
      " [ 0.59798536  1.48781255 -0.37995748 ...  0.26311503  0.01566842\n",
      "  -1.09746345]]\n"
     ]
    }
   ],
   "source": [
    "matrix_data = dframe_features.to_numpy()\n",
    "print(matrix_data)"
   ]
  },
  {
   "cell_type": "code",
   "execution_count": 102,
   "metadata": {
    "executionInfo": {
     "elapsed": 23,
     "status": "ok",
     "timestamp": 1631567832187,
     "user": {
      "displayName": "Aaryansh Mohan Bansal",
      "photoUrl": "https://lh3.googleusercontent.com/a-/AOh14Ghi3BY2z4TJj9tLxHingTikg46M5njHUxFzDCKQeg=s64",
      "userId": "06585114614514006883"
     },
     "user_tz": -330
    },
    "id": "aezKxsD26_g6"
   },
   "outputs": [],
   "source": [
    "from sklearn.decomposition import PCA"
   ]
  },
  {
   "cell_type": "code",
   "execution_count": 103,
   "metadata": {
    "executionInfo": {
     "elapsed": 23,
     "status": "ok",
     "timestamp": 1631567832188,
     "user": {
      "displayName": "Aaryansh Mohan Bansal",
      "photoUrl": "https://lh3.googleusercontent.com/a-/AOh14Ghi3BY2z4TJj9tLxHingTikg46M5njHUxFzDCKQeg=s64",
      "userId": "06585114614514006883"
     },
     "user_tz": -330
    },
    "id": "qzQ43LIU75Wa"
   },
   "outputs": [],
   "source": [
    "pca=PCA(n_components=10)"
   ]
  },
  {
   "cell_type": "code",
   "execution_count": 104,
   "metadata": {
    "colab": {
     "base_uri": "https://localhost:8080/"
    },
    "executionInfo": {
     "elapsed": 24,
     "status": "ok",
     "timestamp": 1631567832189,
     "user": {
      "displayName": "Aaryansh Mohan Bansal",
      "photoUrl": "https://lh3.googleusercontent.com/a-/AOh14Ghi3BY2z4TJj9tLxHingTikg46M5njHUxFzDCKQeg=s64",
      "userId": "06585114614514006883"
     },
     "user_tz": -330
    },
    "id": "BDk8Nmef77H4",
    "outputId": "9c81804e-3703-40fc-9291-d9415c69abc3"
   },
   "outputs": [
    {
     "data": {
      "text/plain": [
       "PCA(copy=True, iterated_power='auto', n_components=10, random_state=None,\n",
       "    svd_solver='auto', tol=0.0, whiten=False)"
      ]
     },
     "execution_count": 104,
     "metadata": {},
     "output_type": "execute_result"
    }
   ],
   "source": [
    "pca.fit(matrix_data)"
   ]
  },
  {
   "cell_type": "code",
   "execution_count": 105,
   "metadata": {
    "executionInfo": {
     "elapsed": 21,
     "status": "ok",
     "timestamp": 1631567832189,
     "user": {
      "displayName": "Aaryansh Mohan Bansal",
      "photoUrl": "https://lh3.googleusercontent.com/a-/AOh14Ghi3BY2z4TJj9tLxHingTikg46M5njHUxFzDCKQeg=s64",
      "userId": "06585114614514006883"
     },
     "user_tz": -330
    },
    "id": "FMI89oaL7_v9"
   },
   "outputs": [],
   "source": [
    "x_pca=pca.transform(matrix_data)"
   ]
  },
  {
   "cell_type": "code",
   "execution_count": 106,
   "metadata": {
    "colab": {
     "base_uri": "https://localhost:8080/"
    },
    "executionInfo": {
     "elapsed": 21,
     "status": "ok",
     "timestamp": 1631567832190,
     "user": {
      "displayName": "Aaryansh Mohan Bansal",
      "photoUrl": "https://lh3.googleusercontent.com/a-/AOh14Ghi3BY2z4TJj9tLxHingTikg46M5njHUxFzDCKQeg=s64",
      "userId": "06585114614514006883"
     },
     "user_tz": -330
    },
    "id": "w-KbnMdo8DU-",
    "outputId": "648cf17d-a63d-4b82-99b1-086c93bff168"
   },
   "outputs": [
    {
     "data": {
      "text/plain": [
       "(20765, 10)"
      ]
     },
     "execution_count": 106,
     "metadata": {},
     "output_type": "execute_result"
    }
   ],
   "source": [
    "matrix_data.shape"
   ]
  },
  {
   "cell_type": "code",
   "execution_count": 107,
   "metadata": {
    "colab": {
     "base_uri": "https://localhost:8080/"
    },
    "executionInfo": {
     "elapsed": 21,
     "status": "ok",
     "timestamp": 1631567832192,
     "user": {
      "displayName": "Aaryansh Mohan Bansal",
      "photoUrl": "https://lh3.googleusercontent.com/a-/AOh14Ghi3BY2z4TJj9tLxHingTikg46M5njHUxFzDCKQeg=s64",
      "userId": "06585114614514006883"
     },
     "user_tz": -330
    },
    "id": "cb7KrKIa8GPr",
    "outputId": "00166198-9783-4aa8-b8c8-22ea274628db"
   },
   "outputs": [
    {
     "data": {
      "text/plain": [
       "(20765, 10)"
      ]
     },
     "execution_count": 107,
     "metadata": {},
     "output_type": "execute_result"
    }
   ],
   "source": [
    "x_pca.shape"
   ]
  },
  {
   "cell_type": "code",
   "execution_count": 108,
   "metadata": {
    "colab": {
     "base_uri": "https://localhost:8080/",
     "height": 405
    },
    "executionInfo": {
     "elapsed": 2646,
     "status": "ok",
     "timestamp": 1631567834819,
     "user": {
      "displayName": "Aaryansh Mohan Bansal",
      "photoUrl": "https://lh3.googleusercontent.com/a-/AOh14Ghi3BY2z4TJj9tLxHingTikg46M5njHUxFzDCKQeg=s64",
      "userId": "06585114614514006883"
     },
     "user_tz": -330
    },
    "id": "5pCBZKaQ8Ru5",
    "outputId": "8aca98d9-e773-40f5-ca42-60a88cce66cc"
   },
   "outputs": [
    {
     "data": {
      "text/plain": [
       "Text(0, 0.5, 'Second principle component')"
      ]
     },
     "execution_count": 108,
     "metadata": {},
     "output_type": "execute_result"
    },
    {
     "data": {
      "image/png": "[encoded data removed]",
      "text/plain": [
       "<Figure size 576x432 with 1 Axes>"
      ]
     },
     "metadata": {
      "needs_background": "light"
     },
     "output_type": "display_data"
    }
   ],
   "source": [
    "plt.figure(figsize=(8,6))\n",
    "plt.scatter(x_pca[:,0],x_pca[:,1],c=DEB_label_list)\n",
    "plt.xlabel('First principle component')\n",
    "plt.ylabel('Second principle component')"
   ]
  },
  {
   "cell_type": "code",
   "execution_count": 109,
   "metadata": {
    "colab": {
     "base_uri": "https://localhost:8080/"
    },
    "executionInfo": {
     "elapsed": 27,
     "status": "ok",
     "timestamp": 1631567834820,
     "user": {
      "displayName": "Aaryansh Mohan Bansal",
      "photoUrl": "https://lh3.googleusercontent.com/a-/AOh14Ghi3BY2z4TJj9tLxHingTikg46M5njHUxFzDCKQeg=s64",
      "userId": "06585114614514006883"
     },
     "user_tz": -330
    },
    "id": "45u3Hnak9ItW",
    "outputId": "f395f04a-ca14-4272-e43e-3808c166dfed"
   },
   "outputs": [
    {
     "name": "stdout",
     "output_type": "stream",
     "text": [
      "[[-0.57328536  0.1082096   0.48679827  0.06194114  0.0022291  -0.00191397\n",
      "  -0.05808411 -0.59847013  0.02353447 -0.23816498]\n",
      " [-0.06315456  0.05580643  0.02528593 -0.70297375  0.02214757 -0.00887573\n",
      "   0.70088655 -0.01914964 -0.00437797 -0.07673686]\n",
      " [ 0.02677916  0.42088942  0.0741643   0.02209938  0.50089446  0.15473715\n",
      "   0.01397703  0.01194062  0.66244056  0.31959658]\n",
      " [-0.02279813 -0.33012513 -0.08760024  0.01071216  0.44000621  0.75120521\n",
      "  -0.00251772  0.01690068 -0.13005966 -0.32800437]\n",
      " [-0.02742417 -0.60214559  0.00186982  0.02002796  0.52026008 -0.57514671\n",
      "   0.03316327 -0.04126597  0.16121092 -0.0775116 ]\n",
      " [ 0.02019306  0.19581154  0.1845485  -0.02996227  0.44549635 -0.0615636\n",
      "  -0.01833136 -0.05272948 -0.69874534  0.48236463]\n",
      " [-0.02915196  0.5415354  -0.29537927  0.0232396   0.2925155  -0.27697542\n",
      "  -0.09088237  0.14419301 -0.16249411 -0.63274348]\n",
      " [ 0.52484927  0.02689724  0.7619968  -0.00321348  0.00796752 -0.01886118\n",
      "  -0.01139409  0.23937516  0.01160109 -0.29184966]\n",
      " [-0.03887213 -0.04883875  0.01393155 -0.70477428  0.00484898  0.00233713\n",
      "  -0.70354288  0.02825372  0.05382629  0.02248901]\n",
      " [ 0.62219855  0.04189352 -0.21695657 -0.0532167   0.01462609 -0.00207243\n",
      "  -0.01961442 -0.74676967  0.00370965 -0.05413021]]\n",
      "[2.32161524 1.57861365 1.07815577 1.01497889 0.98807447 0.93625296\n",
      " 0.92218805 0.53941984 0.4189145  0.20226824]\n"
     ]
    }
   ],
   "source": [
    "print(pca.components_)\n",
    "print(pca.explained_variance_)"
   ]
  },
  {
   "cell_type": "code",
   "execution_count": 110,
   "metadata": {
    "colab": {
     "base_uri": "https://localhost:8080/"
    },
    "executionInfo": {
     "elapsed": 22,
     "status": "ok",
     "timestamp": 1631567834821,
     "user": {
      "displayName": "Aaryansh Mohan Bansal",
      "photoUrl": "https://lh3.googleusercontent.com/a-/AOh14Ghi3BY2z4TJj9tLxHingTikg46M5njHUxFzDCKQeg=s64",
      "userId": "06585114614514006883"
     },
     "user_tz": -330
    },
    "id": "_LE8uEwiAM3b",
    "outputId": "cc98fb8c-9b27-466a-cd80-83403ad5dc59"
   },
   "outputs": [
    {
     "data": {
      "text/plain": [
       "array([ 23.2,  39. ,  49.8,  59.9,  69.8,  79.2,  88.4,  93.8,  98. ,\n",
       "       100. ])"
      ]
     },
     "execution_count": 110,
     "metadata": {},
     "output_type": "execute_result"
    }
   ],
   "source": [
    "variance = pca.explained_variance_ratio_ #calculate variance ratios\n",
    "\n",
    "var=np.cumsum(np.round(pca.explained_variance_ratio_, decimals=3)*100)\n",
    "var #cumulative sum of variance explained with [n] features"
   ]
  },
  {
   "cell_type": "code",
   "execution_count": 111,
   "metadata": {
    "colab": {
     "base_uri": "https://localhost:8080/",
     "height": 312
    },
    "executionInfo": {
     "elapsed": 20,
     "status": "ok",
     "timestamp": 1631567834823,
     "user": {
      "displayName": "Aaryansh Mohan Bansal",
      "photoUrl": "https://lh3.googleusercontent.com/a-/AOh14Ghi3BY2z4TJj9tLxHingTikg46M5njHUxFzDCKQeg=s64",
      "userId": "06585114614514006883"
     },
     "user_tz": -330
    },
    "id": "DPesHpdFAT0L",
    "outputId": "c3367407-ac96-4e42-9597-29bc47d86293"
   },
   "outputs": [
    {
     "data": {
      "text/plain": [
       "[<matplotlib.lines.Line2D at 0x7fb08f758650>]"
      ]
     },
     "execution_count": 111,
     "metadata": {},
     "output_type": "execute_result"
    },
    {
     "data": {
      "image/png": "[encoded data removed]",
      "text/plain": [
       "<Figure size 432x288 with 1 Axes>"
      ]
     },
     "metadata": {
      "needs_background": "light"
     },
     "output_type": "display_data"
    }
   ],
   "source": [
    "plt.ylabel('% Variance Explained')\n",
    "plt.xlabel('# of Features')\n",
    "plt.title('PCA Analysis')\n",
    "plt.ylim(30,100.5)\n",
    "plt.style.context('seaborn-whitegrid')\n",
    "plt.plot(var)"
   ]
  }
 ],
 "metadata": {
  "colab": {
   "authorship_tag": "ABX9TyO/vaG320ULmYOjv6MVTJkH",
   "collapsed_sections": [],
   "name": "SVD_PCA.ipynb",
   "provenance": []
  },
  "kernelspec": {
   "display_name": "Python 3",
   "language": "python",
   "name": "python3"
  },
  "language_info": {
   "codemirror_mode": {
    "name": "ipython",
    "version": 3
   },
   "file_extension": ".py",
   "mimetype": "text/x-python",
   "name": "python",
   "nbconvert_exporter": "python",
   "pygments_lexer": "ipython3",
   "version": "3.8.10"
  }
 },
 "nbformat": 4,
 "nbformat_minor": 1
}
