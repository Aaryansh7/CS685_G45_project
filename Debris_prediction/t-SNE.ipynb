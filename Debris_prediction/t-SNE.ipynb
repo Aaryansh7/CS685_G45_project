{
 "cells": [
  {
   "cell_type": "code",
   "execution_count": 2,
   "metadata": {
    "executionInfo": {
     "elapsed": 733,
     "status": "ok",
     "timestamp": 1636560221669,
     "user": {
      "displayName": "Aaryansh Mohan Bansal",
      "photoUrl": "https://lh3.googleusercontent.com/a-/AOh14Ghi3BY2z4TJj9tLxHingTikg46M5njHUxFzDCKQeg=s64",
      "userId": "06585114614514006883"
     },
     "user_tz": -330
    },
    "id": "9gf9x9QeERne"
   },
   "outputs": [],
   "source": [
    "import numpy as np\n",
    "import pandas as pd\n",
    "from tqdm import tqdm  "
   ]
  },
  {
   "cell_type": "code",
   "execution_count": null,
   "metadata": {},
   "outputs": [],
   "source": [
    "# DRIVE LINK FOR FOLDER:- https://drive.google.com/drive/folders/1UDYbC5tWJNacgAcHfIoVGqI7DFyKzmof?usp=sharing\n",
    "## Please download the folder in the \"Debris_prediction\" and name it as \"data\""
   ]
  },
  {
   "cell_type": "code",
   "execution_count": 3,
   "metadata": {
    "colab": {
     "base_uri": "https://localhost:8080/",
     "height": 452
    },
    "executionInfo": {
     "elapsed": 23246,
     "status": "ok",
     "timestamp": 1636560244895,
     "user": {
      "displayName": "Aaryansh Mohan Bansal",
      "photoUrl": "https://lh3.googleusercontent.com/a-/AOh14Ghi3BY2z4TJj9tLxHingTikg46M5njHUxFzDCKQeg=s64",
      "userId": "06585114614514006883"
     },
     "user_tz": -330
    },
    "id": "7FsJ0Cu1EagF",
    "outputId": "73680632-09a7-45a5-c42f-5df27292288e"
   },
   "outputs": [
    {
     "data": {
      "text/html": [
       "<div>\n",
       "<style scoped>\n",
       "    .dataframe tbody tr th:only-of-type {\n",
       "        vertical-align: middle;\n",
       "    }\n",
       "\n",
       "    .dataframe tbody tr th {\n",
       "        vertical-align: top;\n",
       "    }\n",
       "\n",
       "    .dataframe thead th {\n",
       "        text-align: right;\n",
       "    }\n",
       "</style>\n",
       "<table border=\"1\" class=\"dataframe\">\n",
       "  <thead>\n",
       "    <tr style=\"text-align: right;\">\n",
       "      <th></th>\n",
       "      <th>Unnamed: 0</th>\n",
       "      <th>OBJECT_NAME</th>\n",
       "      <th>NORAD_ID</th>\n",
       "      <th>YEAR LAUNCH</th>\n",
       "      <th>EPOCH</th>\n",
       "      <th>INCLINATION(i)</th>\n",
       "      <th>RIGHT ASCENSION ASCENDING NODE(w)</th>\n",
       "      <th>ECCENTRICITY(e)</th>\n",
       "      <th>ARGUMENT PERIGEE(omega)</th>\n",
       "      <th>FIRST DERIVATIVE MEAN MOTION(n_dot)</th>\n",
       "      <th>SECOND DERIVATIVE MEAN MOTION(n_ddot)</th>\n",
       "      <th>MEAN ANOMALY(M)</th>\n",
       "      <th>MEAN MOTION(n)</th>\n",
       "      <th>DRAG TERM(B*)</th>\n",
       "      <th>REVOLUTION(rev)</th>\n",
       "      <th>DEB_LABELS</th>\n",
       "    </tr>\n",
       "  </thead>\n",
       "  <tbody>\n",
       "    <tr>\n",
       "      <th>0</th>\n",
       "      <td>0</td>\n",
       "      <td>0 VANGUARD 1</td>\n",
       "      <td>5</td>\n",
       "      <td>58002B</td>\n",
       "      <td>19062.547176</td>\n",
       "      <td>34.2423</td>\n",
       "      <td>241.7853</td>\n",
       "      <td>0.184549</td>\n",
       "      <td>28.9769</td>\n",
       "      <td>-9.700000e-07</td>\n",
       "      <td>0.0</td>\n",
       "      <td>340.1753</td>\n",
       "      <td>10.847785</td>\n",
       "      <td>-10.2480</td>\n",
       "      <td>40059</td>\n",
       "      <td>0</td>\n",
       "    </tr>\n",
       "    <tr>\n",
       "      <th>1</th>\n",
       "      <td>1</td>\n",
       "      <td>0 VANGUARD 1</td>\n",
       "      <td>5</td>\n",
       "      <td>58002B</td>\n",
       "      <td>19061.533962</td>\n",
       "      <td>34.2424</td>\n",
       "      <td>244.9073</td>\n",
       "      <td>0.184551</td>\n",
       "      <td>24.4163</td>\n",
       "      <td>-8.700000e-07</td>\n",
       "      <td>0.0</td>\n",
       "      <td>343.3658</td>\n",
       "      <td>10.847786</td>\n",
       "      <td>-9.1296</td>\n",
       "      <td>39950</td>\n",
       "      <td>0</td>\n",
       "    </tr>\n",
       "    <tr>\n",
       "      <th>2</th>\n",
       "      <td>2</td>\n",
       "      <td>0 VANGUARD 2</td>\n",
       "      <td>11</td>\n",
       "      <td>59001A</td>\n",
       "      <td>19062.810256</td>\n",
       "      <td>32.8692</td>\n",
       "      <td>26.0392</td>\n",
       "      <td>0.146831</td>\n",
       "      <td>109.0964</td>\n",
       "      <td>1.560000e-06</td>\n",
       "      <td>0.0</td>\n",
       "      <td>267.4040</td>\n",
       "      <td>11.856163</td>\n",
       "      <td>8.4707</td>\n",
       "      <td>89849</td>\n",
       "      <td>0</td>\n",
       "    </tr>\n",
       "    <tr>\n",
       "      <th>3</th>\n",
       "      <td>3</td>\n",
       "      <td>0 VANGUARD 2</td>\n",
       "      <td>11</td>\n",
       "      <td>59001A</td>\n",
       "      <td>19061.883760</td>\n",
       "      <td>32.8692</td>\n",
       "      <td>29.5172</td>\n",
       "      <td>0.146833</td>\n",
       "      <td>103.8659</td>\n",
       "      <td>1.500000e-06</td>\n",
       "      <td>0.0</td>\n",
       "      <td>272.9148</td>\n",
       "      <td>11.856160</td>\n",
       "      <td>8.2480</td>\n",
       "      <td>88729</td>\n",
       "      <td>0</td>\n",
       "    </tr>\n",
       "    <tr>\n",
       "      <th>4</th>\n",
       "      <td>4</td>\n",
       "      <td>0 VANGUARD 2</td>\n",
       "      <td>11</td>\n",
       "      <td>59001A</td>\n",
       "      <td>19060.957229</td>\n",
       "      <td>32.8691</td>\n",
       "      <td>32.9953</td>\n",
       "      <td>0.146835</td>\n",
       "      <td>98.6352</td>\n",
       "      <td>1.420000e-06</td>\n",
       "      <td>0.0</td>\n",
       "      <td>278.2792</td>\n",
       "      <td>11.856156</td>\n",
       "      <td>7.8769</td>\n",
       "      <td>87689</td>\n",
       "      <td>0</td>\n",
       "    </tr>\n",
       "  </tbody>\n",
       "</table>\n",
       "</div>"
      ],
      "text/plain": [
       "   Unnamed: 0   OBJECT_NAME  ...  REVOLUTION(rev) DEB_LABELS\n",
       "0           0  0 VANGUARD 1  ...            40059          0\n",
       "1           1  0 VANGUARD 1  ...            39950          0\n",
       "2           2  0 VANGUARD 2  ...            89849          0\n",
       "3           3  0 VANGUARD 2  ...            88729          0\n",
       "4           4  0 VANGUARD 2  ...            87689          0\n",
       "\n",
       "[5 rows x 16 columns]"
      ]
     },
     "execution_count": 3,
     "metadata": {},
     "output_type": "execute_result"
    }
   ],
   "source": [
    "df = pd.read_csv('data/deception_detection_catalogue_v1.csv')\n",
    "df.head()"
   ]
  },
  {
   "cell_type": "code",
   "execution_count": 4,
   "metadata": {
    "colab": {
     "base_uri": "https://localhost:8080/",
     "height": 258
    },
    "executionInfo": {
     "elapsed": 1293,
     "status": "ok",
     "timestamp": 1636560246173,
     "user": {
      "displayName": "Aaryansh Mohan Bansal",
      "photoUrl": "https://lh3.googleusercontent.com/a-/AOh14Ghi3BY2z4TJj9tLxHingTikg46M5njHUxFzDCKQeg=s64",
      "userId": "06585114614514006883"
     },
     "user_tz": -330
    },
    "id": "aJAd6nSBH1Cj",
    "outputId": "0d0ecdc5-d605-43c8-ee71-68a66775d004"
   },
   "outputs": [
    {
     "data": {
      "text/html": [
       "<div>\n",
       "<style scoped>\n",
       "    .dataframe tbody tr th:only-of-type {\n",
       "        vertical-align: middle;\n",
       "    }\n",
       "\n",
       "    .dataframe tbody tr th {\n",
       "        vertical-align: top;\n",
       "    }\n",
       "\n",
       "    .dataframe thead th {\n",
       "        text-align: right;\n",
       "    }\n",
       "</style>\n",
       "<table border=\"1\" class=\"dataframe\">\n",
       "  <thead>\n",
       "    <tr style=\"text-align: right;\">\n",
       "      <th></th>\n",
       "      <th>INCLINATION(i)</th>\n",
       "      <th>RIGHT ASCENSION ASCENDING NODE(w)</th>\n",
       "      <th>ECCENTRICITY(e)</th>\n",
       "      <th>ARGUMENT PERIGEE(omega)</th>\n",
       "      <th>FIRST DERIVATIVE MEAN MOTION(n_dot)</th>\n",
       "      <th>SECOND DERIVATIVE MEAN MOTION(n_ddot)</th>\n",
       "      <th>MEAN ANOMALY(M)</th>\n",
       "      <th>MEAN MOTION(n)</th>\n",
       "      <th>DRAG TERM(B*)</th>\n",
       "      <th>REVOLUTION(rev)</th>\n",
       "    </tr>\n",
       "  </thead>\n",
       "  <tbody>\n",
       "    <tr>\n",
       "      <th>0</th>\n",
       "      <td>-1.139129</td>\n",
       "      <td>0.597003</td>\n",
       "      <td>0.797830</td>\n",
       "      <td>-1.395398</td>\n",
       "      <td>-0.005684</td>\n",
       "      <td>-0.010214</td>\n",
       "      <td>1.445475</td>\n",
       "      <td>-0.125293</td>\n",
       "      <td>-0.014096</td>\n",
       "      <td>-0.087096</td>\n",
       "    </tr>\n",
       "    <tr>\n",
       "      <th>1</th>\n",
       "      <td>-1.139126</td>\n",
       "      <td>0.625838</td>\n",
       "      <td>0.797840</td>\n",
       "      <td>-1.438950</td>\n",
       "      <td>-0.005683</td>\n",
       "      <td>-0.010214</td>\n",
       "      <td>1.475081</td>\n",
       "      <td>-0.125293</td>\n",
       "      <td>-0.013766</td>\n",
       "      <td>-0.090506</td>\n",
       "    </tr>\n",
       "    <tr>\n",
       "      <th>2</th>\n",
       "      <td>-1.181341</td>\n",
       "      <td>-1.395676</td>\n",
       "      <td>0.566060</td>\n",
       "      <td>-0.630292</td>\n",
       "      <td>-0.005647</td>\n",
       "      <td>-0.010214</td>\n",
       "      <td>0.770208</td>\n",
       "      <td>0.072053</td>\n",
       "      <td>-0.008568</td>\n",
       "      <td>1.470416</td>\n",
       "    </tr>\n",
       "    <tr>\n",
       "      <th>3</th>\n",
       "      <td>-1.181341</td>\n",
       "      <td>-1.363553</td>\n",
       "      <td>0.566070</td>\n",
       "      <td>-0.680241</td>\n",
       "      <td>-0.005647</td>\n",
       "      <td>-0.010214</td>\n",
       "      <td>0.821345</td>\n",
       "      <td>0.072053</td>\n",
       "      <td>-0.008634</td>\n",
       "      <td>1.435381</td>\n",
       "    </tr>\n",
       "    <tr>\n",
       "      <th>4</th>\n",
       "      <td>-1.181344</td>\n",
       "      <td>-1.331428</td>\n",
       "      <td>0.566081</td>\n",
       "      <td>-0.730192</td>\n",
       "      <td>-0.005649</td>\n",
       "      <td>-0.010214</td>\n",
       "      <td>0.871123</td>\n",
       "      <td>0.072052</td>\n",
       "      <td>-0.008743</td>\n",
       "      <td>1.402848</td>\n",
       "    </tr>\n",
       "  </tbody>\n",
       "</table>\n",
       "</div>"
      ],
      "text/plain": [
       "   INCLINATION(i)  ...  REVOLUTION(rev)\n",
       "0       -1.139129  ...        -0.087096\n",
       "1       -1.139126  ...        -0.090506\n",
       "2       -1.181341  ...         1.470416\n",
       "3       -1.181341  ...         1.435381\n",
       "4       -1.181344  ...         1.402848\n",
       "\n",
       "[5 rows x 10 columns]"
      ]
     },
     "execution_count": 4,
     "metadata": {},
     "output_type": "execute_result"
    }
   ],
   "source": [
    "df = df.drop(['OBJECT_NAME', 'NORAD_ID', 'YEAR LAUNCH', 'EPOCH'], axis=1)\n",
    "df_targets = df['DEB_LABELS']\n",
    "df = df.drop(['DEB_LABELS', 'Unnamed: 0'], axis=1)\n",
    "normalized_df=(df-df.mean())/df.std()\n",
    "normalized_df.head()"
   ]
  },
  {
   "cell_type": "code",
   "execution_count": 5,
   "metadata": {
    "executionInfo": {
     "elapsed": 20,
     "status": "ok",
     "timestamp": 1636560246176,
     "user": {
      "displayName": "Aaryansh Mohan Bansal",
      "photoUrl": "https://lh3.googleusercontent.com/a-/AOh14Ghi3BY2z4TJj9tLxHingTikg46M5njHUxFzDCKQeg=s64",
      "userId": "06585114614514006883"
     },
     "user_tz": -330
    },
    "id": "x4cFW10JImGX"
   },
   "outputs": [],
   "source": [
    "df_features = normalized_df.copy()"
   ]
  },
  {
   "cell_type": "code",
   "execution_count": 6,
   "metadata": {
    "colab": {
     "base_uri": "https://localhost:8080/"
    },
    "executionInfo": {
     "elapsed": 751,
     "status": "ok",
     "timestamp": 1636560246911,
     "user": {
      "displayName": "Aaryansh Mohan Bansal",
      "photoUrl": "https://lh3.googleusercontent.com/a-/AOh14Ghi3BY2z4TJj9tLxHingTikg46M5njHUxFzDCKQeg=s64",
      "userId": "06585114614514006883"
     },
     "user_tz": -330
    },
    "id": "GCdTx2T-LJaJ",
    "outputId": "0d01d834-7ab5-4b98-a699-ab91df1bbed4"
   },
   "outputs": [
    {
     "name": "stdout",
     "output_type": "stream",
     "text": [
      "[[-1.13912905  0.59700294  0.79782957 ... -0.12529317 -0.01409585\n",
      "  -0.08709598]\n",
      " [-1.13912598  0.62583843  0.79784001 ... -0.12529286 -0.01376558\n",
      "  -0.09050568]\n",
      " [-1.18134139 -1.39567649  0.56606048 ...  0.07205346 -0.00856802\n",
      "   1.47041594]\n",
      " ...\n",
      " [ 0.85728324 -0.91329712 -0.27838735 ...  0.50251186 -0.01106951\n",
      "   0.4812598 ]\n",
      " [ 0.84841715 -1.34774695 -0.27704472 ...  0.64077954 -0.01106951\n",
      "   0.55358291]\n",
      " [ 0.84841715 -1.34774695 -0.27704472 ...  0.64077954 -0.01106951\n",
      "   0.54319741]]\n"
     ]
    }
   ],
   "source": [
    "print(df_features[:].values)\n",
    "X = df_features[1:]"
   ]
  },
  {
   "cell_type": "code",
   "execution_count": null,
   "metadata": {
    "id": "fF8MFSLQKphZ"
   },
   "outputs": [],
   "source": [
    "from sklearn.manifold import TSNE\n",
    "X_embedded = TSNE(n_components=2, random_state=0, perplexity=50).fit_transform(X.values)\n",
    "print(X_embedded.shape)"
   ]
  },
  {
   "cell_type": "code",
   "execution_count": null,
   "metadata": {
    "id": "MBpeS9jvUGv5"
   },
   "outputs": [],
   "source": [
    "print(X_embedded)"
   ]
  },
  {
   "cell_type": "code",
   "execution_count": null,
   "metadata": {
    "id": "Bm-tb36YUd9L"
   },
   "outputs": [],
   "source": [
    "labels = df_targets[1:]\n",
    "tnse_data = np.vstack((X_embedded.T,labels)).T\n",
    "tnse_df = pd.DataFrame(data=tnse_data,columns=('Dim1', 'Dim2','label'))\n",
    "tnse_df.head()"
   ]
  },
  {
   "cell_type": "code",
   "execution_count": null,
   "metadata": {
    "id": "YWYd14OGVC1m"
   },
   "outputs": [],
   "source": [
    "import seaborn as sn\n",
    "import matplotlib.pyplot as plt\n",
    "\n",
    "sn.FacetGrid(tnse_df, hue=\"label\", height=6).map(plt.scatter, 'Dim1','Dim2')\n",
    "plt.show()"
   ]
  }
 ],
 "metadata": {
  "colab": {
   "authorship_tag": "ABX9TyMbVjc/wK4uP9YCNDNZQlxG",
   "name": "t-SNE.ipynb",
   "provenance": []
  },
  "kernelspec": {
   "display_name": "Python 3",
   "language": "python",
   "name": "python3"
  },
  "language_info": {
   "codemirror_mode": {
    "name": "ipython",
    "version": 3
   },
   "file_extension": ".py",
   "mimetype": "text/x-python",
   "name": "python",
   "nbconvert_exporter": "python",
   "pygments_lexer": "ipython3",
   "version": "3.8.10"
  }
 },
 "nbformat": 4,
 "nbformat_minor": 1
}
