{
 "cells": [
  {
   "cell_type": "code",
   "execution_count": 1,
   "metadata": {
    "executionInfo": {
     "elapsed": 11,
     "status": "ok",
     "timestamp": 1627320379104,
     "user": {
      "displayName": "Aaryansh Mohan Bansal",
      "photoUrl": "https://lh3.googleusercontent.com/a-/AOh14Ghi3BY2z4TJj9tLxHingTikg46M5njHUxFzDCKQeg=s64",
      "userId": "06585114614514006883"
     },
     "user_tz": -330
    },
    "id": "lixvg0aY3-MA"
   },
   "outputs": [],
   "source": [
    "# Imports\n",
    "import numpy as np\n",
    "import pandas as pd\n",
    "from tqdm import tqdm  \n",
    "from sklearn.preprocessing import StandardScaler\n",
    "from sklearn import tree\n",
    "from sklearn.model_selection import train_test_split\n",
    "from sklearn.ensemble import RandomForestClassifier"
   ]
  },
  {
   "cell_type": "code",
   "execution_count": 2,
   "metadata": {
    "executionInfo": {
     "elapsed": 12098,
     "status": "ok",
     "timestamp": 1627320391195,
     "user": {
      "displayName": "Aaryansh Mohan Bansal",
      "photoUrl": "https://lh3.googleusercontent.com/a-/AOh14Ghi3BY2z4TJj9tLxHingTikg46M5njHUxFzDCKQeg=s64",
      "userId": "06585114614514006883"
     },
     "user_tz": -330
    },
    "id": "6Ng0UfcR3-2G"
   },
   "outputs": [],
   "source": [
    "# DRIVE LINK FOR FOLDER:- https://drive.google.com/drive/folders/1UDYbC5tWJNacgAcHfIoVGqI7DFyKzmof?usp=sharing\n",
    "## Please download the folder in the \"Debris_prediction\" and name it as \"data\"\n",
    "\n",
    "\"\n",
    "# Load the TLE data from local system\n",
    "df = pd.read_csv(\"data/deception_detection_catalogue_v1.csv\") \n",
    "df.drop(df.columns[0], axis=1, inplace=True)\n",
    "\n",
    "df_test = pd.read_csv(\"data/deception_detection_catalogue.csv\") \n",
    "df_test.drop(df_test.columns[0], axis=1, inplace=True)"
   ]
  },
  {
   "cell_type": "code",
   "execution_count": 3,
   "metadata": {
    "colab": {
     "base_uri": "https://localhost:8080/",
     "height": 452
    },
    "executionInfo": {
     "elapsed": 35,
     "status": "ok",
     "timestamp": 1627320391200,
     "user": {
      "displayName": "Aaryansh Mohan Bansal",
      "photoUrl": "https://lh3.googleusercontent.com/a-/AOh14Ghi3BY2z4TJj9tLxHingTikg46M5njHUxFzDCKQeg=s64",
      "userId": "06585114614514006883"
     },
     "user_tz": -330
    },
    "id": "PooXq9YqCQf0",
    "outputId": "2a409b5d-f75a-4b7a-99d2-6331435062f4"
   },
   "outputs": [
    {
     "data": {
      "text/html": [
       "<div>\n",
       "<style scoped>\n",
       "    .dataframe tbody tr th:only-of-type {\n",
       "        vertical-align: middle;\n",
       "    }\n",
       "\n",
       "    .dataframe tbody tr th {\n",
       "        vertical-align: top;\n",
       "    }\n",
       "\n",
       "    .dataframe thead th {\n",
       "        text-align: right;\n",
       "    }\n",
       "</style>\n",
       "<table border=\"1\" class=\"dataframe\">\n",
       "  <thead>\n",
       "    <tr style=\"text-align: right;\">\n",
       "      <th></th>\n",
       "      <th>OBJECT_NAME</th>\n",
       "      <th>NORAD_ID</th>\n",
       "      <th>YEAR LAUNCH</th>\n",
       "      <th>EPOCH</th>\n",
       "      <th>INCLINATION(i)</th>\n",
       "      <th>RIGHT ASCENSION ASCENDING NODE(w)</th>\n",
       "      <th>ECCENTRICITY(e)</th>\n",
       "      <th>ARGUMENT PERIGEE(omega)</th>\n",
       "      <th>FIRST DERIVATIVE MEAN MOTION(n_dot)</th>\n",
       "      <th>SECOND DERIVATIVE MEAN MOTION(n_ddot)</th>\n",
       "      <th>MEAN ANOMALY(M)</th>\n",
       "      <th>MEAN MOTION(n)</th>\n",
       "      <th>DRAG TERM(B*)</th>\n",
       "      <th>REVOLUTION(rev)</th>\n",
       "      <th>DEB_LABELS</th>\n",
       "    </tr>\n",
       "  </thead>\n",
       "  <tbody>\n",
       "    <tr>\n",
       "      <th>0</th>\n",
       "      <td>0 VANGUARD 1</td>\n",
       "      <td>5</td>\n",
       "      <td>58002B</td>\n",
       "      <td>19062.547176</td>\n",
       "      <td>34.2423</td>\n",
       "      <td>241.7853</td>\n",
       "      <td>0.184549</td>\n",
       "      <td>28.9769</td>\n",
       "      <td>-9.700000e-07</td>\n",
       "      <td>0.0</td>\n",
       "      <td>340.1753</td>\n",
       "      <td>10.847785</td>\n",
       "      <td>-10.2480</td>\n",
       "      <td>40059</td>\n",
       "      <td>0</td>\n",
       "    </tr>\n",
       "    <tr>\n",
       "      <th>1</th>\n",
       "      <td>0 VANGUARD 1</td>\n",
       "      <td>5</td>\n",
       "      <td>58002B</td>\n",
       "      <td>19061.533962</td>\n",
       "      <td>34.2424</td>\n",
       "      <td>244.9073</td>\n",
       "      <td>0.184551</td>\n",
       "      <td>24.4163</td>\n",
       "      <td>-8.700000e-07</td>\n",
       "      <td>0.0</td>\n",
       "      <td>343.3658</td>\n",
       "      <td>10.847786</td>\n",
       "      <td>-9.1296</td>\n",
       "      <td>39950</td>\n",
       "      <td>0</td>\n",
       "    </tr>\n",
       "    <tr>\n",
       "      <th>2</th>\n",
       "      <td>0 VANGUARD 2</td>\n",
       "      <td>11</td>\n",
       "      <td>59001A</td>\n",
       "      <td>19062.810256</td>\n",
       "      <td>32.8692</td>\n",
       "      <td>26.0392</td>\n",
       "      <td>0.146831</td>\n",
       "      <td>109.0964</td>\n",
       "      <td>1.560000e-06</td>\n",
       "      <td>0.0</td>\n",
       "      <td>267.4040</td>\n",
       "      <td>11.856163</td>\n",
       "      <td>8.4707</td>\n",
       "      <td>89849</td>\n",
       "      <td>0</td>\n",
       "    </tr>\n",
       "    <tr>\n",
       "      <th>3</th>\n",
       "      <td>0 VANGUARD 2</td>\n",
       "      <td>11</td>\n",
       "      <td>59001A</td>\n",
       "      <td>19061.883760</td>\n",
       "      <td>32.8692</td>\n",
       "      <td>29.5172</td>\n",
       "      <td>0.146833</td>\n",
       "      <td>103.8659</td>\n",
       "      <td>1.500000e-06</td>\n",
       "      <td>0.0</td>\n",
       "      <td>272.9148</td>\n",
       "      <td>11.856160</td>\n",
       "      <td>8.2480</td>\n",
       "      <td>88729</td>\n",
       "      <td>0</td>\n",
       "    </tr>\n",
       "    <tr>\n",
       "      <th>4</th>\n",
       "      <td>0 VANGUARD 2</td>\n",
       "      <td>11</td>\n",
       "      <td>59001A</td>\n",
       "      <td>19060.957229</td>\n",
       "      <td>32.8691</td>\n",
       "      <td>32.9953</td>\n",
       "      <td>0.146835</td>\n",
       "      <td>98.6352</td>\n",
       "      <td>1.420000e-06</td>\n",
       "      <td>0.0</td>\n",
       "      <td>278.2792</td>\n",
       "      <td>11.856156</td>\n",
       "      <td>7.8769</td>\n",
       "      <td>87689</td>\n",
       "      <td>0</td>\n",
       "    </tr>\n",
       "  </tbody>\n",
       "</table>\n",
       "</div>"
      ],
      "text/plain": [
       "    OBJECT_NAME  NORAD_ID YEAR LAUNCH         EPOCH  INCLINATION(i)  \\\n",
       "0  0 VANGUARD 1         5      58002B  19062.547176         34.2423   \n",
       "1  0 VANGUARD 1         5      58002B  19061.533962         34.2424   \n",
       "2  0 VANGUARD 2        11      59001A  19062.810256         32.8692   \n",
       "3  0 VANGUARD 2        11      59001A  19061.883760         32.8692   \n",
       "4  0 VANGUARD 2        11      59001A  19060.957229         32.8691   \n",
       "\n",
       "   RIGHT ASCENSION ASCENDING NODE(w)  ECCENTRICITY(e)  \\\n",
       "0                           241.7853         0.184549   \n",
       "1                           244.9073         0.184551   \n",
       "2                            26.0392         0.146831   \n",
       "3                            29.5172         0.146833   \n",
       "4                            32.9953         0.146835   \n",
       "\n",
       "   ARGUMENT PERIGEE(omega)  FIRST DERIVATIVE MEAN MOTION(n_dot)  \\\n",
       "0                  28.9769                        -9.700000e-07   \n",
       "1                  24.4163                        -8.700000e-07   \n",
       "2                 109.0964                         1.560000e-06   \n",
       "3                 103.8659                         1.500000e-06   \n",
       "4                  98.6352                         1.420000e-06   \n",
       "\n",
       "   SECOND DERIVATIVE MEAN MOTION(n_ddot)  MEAN ANOMALY(M)  MEAN MOTION(n)  \\\n",
       "0                                    0.0         340.1753       10.847785   \n",
       "1                                    0.0         343.3658       10.847786   \n",
       "2                                    0.0         267.4040       11.856163   \n",
       "3                                    0.0         272.9148       11.856160   \n",
       "4                                    0.0         278.2792       11.856156   \n",
       "\n",
       "   DRAG TERM(B*)  REVOLUTION(rev)  DEB_LABELS  \n",
       "0       -10.2480            40059           0  \n",
       "1        -9.1296            39950           0  \n",
       "2         8.4707            89849           0  \n",
       "3         8.2480            88729           0  \n",
       "4         7.8769            87689           0  "
      ]
     },
     "execution_count": 3,
     "metadata": {},
     "output_type": "execute_result"
    }
   ],
   "source": [
    "df.head()"
   ]
  },
  {
   "cell_type": "code",
   "execution_count": 4,
   "metadata": {
    "colab": {
     "base_uri": "https://localhost:8080/",
     "height": 452
    },
    "executionInfo": {
     "elapsed": 738,
     "status": "ok",
     "timestamp": 1627320391918,
     "user": {
      "displayName": "Aaryansh Mohan Bansal",
      "photoUrl": "https://lh3.googleusercontent.com/a-/AOh14Ghi3BY2z4TJj9tLxHingTikg46M5njHUxFzDCKQeg=s64",
      "userId": "06585114614514006883"
     },
     "user_tz": -330
    },
    "id": "CVQUFfEM4DW7",
    "outputId": "d701e782-3e4e-4c0a-a1a1-fe5b108c9324"
   },
   "outputs": [
    {
     "data": {
      "text/html": [
       "<div>\n",
       "<style scoped>\n",
       "    .dataframe tbody tr th:only-of-type {\n",
       "        vertical-align: middle;\n",
       "    }\n",
       "\n",
       "    .dataframe tbody tr th {\n",
       "        vertical-align: top;\n",
       "    }\n",
       "\n",
       "    .dataframe thead th {\n",
       "        text-align: right;\n",
       "    }\n",
       "</style>\n",
       "<table border=\"1\" class=\"dataframe\">\n",
       "  <thead>\n",
       "    <tr style=\"text-align: right;\">\n",
       "      <th></th>\n",
       "      <th>OBJECT_NAME</th>\n",
       "      <th>NORAD_ID</th>\n",
       "      <th>YEAR LAUNCH</th>\n",
       "      <th>EPOCH</th>\n",
       "      <th>INCLINATION(i)</th>\n",
       "      <th>RIGHT ASCENSION ASCENDING NODE(w)</th>\n",
       "      <th>ECCENTRICITY(e)</th>\n",
       "      <th>ARGUMENT PERIGEE(omega)</th>\n",
       "      <th>FIRST DERIVATIVE MEAN MOTION(n_dot)</th>\n",
       "      <th>SECOND DERIVATIVE MEAN MOTION(n_ddot)</th>\n",
       "      <th>MEAN ANOMALY(M)</th>\n",
       "      <th>MEAN MOTION(n)</th>\n",
       "      <th>DRAG TERM(B*)</th>\n",
       "      <th>REVOLUTION(rev)</th>\n",
       "      <th>DEB_LABELS</th>\n",
       "    </tr>\n",
       "  </thead>\n",
       "  <tbody>\n",
       "    <tr>\n",
       "      <th>0</th>\n",
       "      <td>0 VANGUARD 1</td>\n",
       "      <td>5</td>\n",
       "      <td>58002B</td>\n",
       "      <td>19062.547176</td>\n",
       "      <td>34.2423</td>\n",
       "      <td>241.7853</td>\n",
       "      <td>0.184549</td>\n",
       "      <td>28.9769</td>\n",
       "      <td>-9.700000e-07</td>\n",
       "      <td>0.0</td>\n",
       "      <td>340.1753</td>\n",
       "      <td>10.847785</td>\n",
       "      <td>-10.2480</td>\n",
       "      <td>40059</td>\n",
       "      <td>0</td>\n",
       "    </tr>\n",
       "    <tr>\n",
       "      <th>1</th>\n",
       "      <td>0 VANGUARD 1</td>\n",
       "      <td>5</td>\n",
       "      <td>58002B</td>\n",
       "      <td>19061.533962</td>\n",
       "      <td>34.2424</td>\n",
       "      <td>244.9073</td>\n",
       "      <td>0.184551</td>\n",
       "      <td>24.4163</td>\n",
       "      <td>-8.700000e-07</td>\n",
       "      <td>0.0</td>\n",
       "      <td>343.3658</td>\n",
       "      <td>10.847786</td>\n",
       "      <td>-9.1296</td>\n",
       "      <td>39950</td>\n",
       "      <td>0</td>\n",
       "    </tr>\n",
       "    <tr>\n",
       "      <th>2</th>\n",
       "      <td>0 VANGUARD 2</td>\n",
       "      <td>11</td>\n",
       "      <td>59001A</td>\n",
       "      <td>19062.810256</td>\n",
       "      <td>32.8692</td>\n",
       "      <td>26.0392</td>\n",
       "      <td>0.146831</td>\n",
       "      <td>109.0964</td>\n",
       "      <td>1.560000e-06</td>\n",
       "      <td>0.0</td>\n",
       "      <td>267.4040</td>\n",
       "      <td>11.856163</td>\n",
       "      <td>8.4707</td>\n",
       "      <td>89849</td>\n",
       "      <td>0</td>\n",
       "    </tr>\n",
       "    <tr>\n",
       "      <th>3</th>\n",
       "      <td>0 VANGUARD 2</td>\n",
       "      <td>11</td>\n",
       "      <td>59001A</td>\n",
       "      <td>19061.883760</td>\n",
       "      <td>32.8692</td>\n",
       "      <td>29.5172</td>\n",
       "      <td>0.146833</td>\n",
       "      <td>103.8659</td>\n",
       "      <td>1.500000e-06</td>\n",
       "      <td>0.0</td>\n",
       "      <td>272.9148</td>\n",
       "      <td>11.856160</td>\n",
       "      <td>8.2480</td>\n",
       "      <td>88729</td>\n",
       "      <td>0</td>\n",
       "    </tr>\n",
       "    <tr>\n",
       "      <th>4</th>\n",
       "      <td>0 VANGUARD 2</td>\n",
       "      <td>11</td>\n",
       "      <td>59001A</td>\n",
       "      <td>19060.957229</td>\n",
       "      <td>32.8691</td>\n",
       "      <td>32.9953</td>\n",
       "      <td>0.146835</td>\n",
       "      <td>98.6352</td>\n",
       "      <td>1.420000e-06</td>\n",
       "      <td>0.0</td>\n",
       "      <td>278.2792</td>\n",
       "      <td>11.856156</td>\n",
       "      <td>7.8769</td>\n",
       "      <td>87689</td>\n",
       "      <td>0</td>\n",
       "    </tr>\n",
       "  </tbody>\n",
       "</table>\n",
       "</div>"
      ],
      "text/plain": [
       "    OBJECT_NAME NORAD_ID YEAR LAUNCH         EPOCH  INCLINATION(i)  \\\n",
       "0  0 VANGUARD 1        5      58002B  19062.547176         34.2423   \n",
       "1  0 VANGUARD 1        5      58002B  19061.533962         34.2424   \n",
       "2  0 VANGUARD 2       11      59001A  19062.810256         32.8692   \n",
       "3  0 VANGUARD 2       11      59001A  19061.883760         32.8692   \n",
       "4  0 VANGUARD 2       11      59001A  19060.957229         32.8691   \n",
       "\n",
       "   RIGHT ASCENSION ASCENDING NODE(w)  ECCENTRICITY(e)  \\\n",
       "0                           241.7853         0.184549   \n",
       "1                           244.9073         0.184551   \n",
       "2                            26.0392         0.146831   \n",
       "3                            29.5172         0.146833   \n",
       "4                            32.9953         0.146835   \n",
       "\n",
       "   ARGUMENT PERIGEE(omega)  FIRST DERIVATIVE MEAN MOTION(n_dot)  \\\n",
       "0                  28.9769                        -9.700000e-07   \n",
       "1                  24.4163                        -8.700000e-07   \n",
       "2                 109.0964                         1.560000e-06   \n",
       "3                 103.8659                         1.500000e-06   \n",
       "4                  98.6352                         1.420000e-06   \n",
       "\n",
       "   SECOND DERIVATIVE MEAN MOTION(n_ddot)  MEAN ANOMALY(M)  MEAN MOTION(n)  \\\n",
       "0                                    0.0         340.1753       10.847785   \n",
       "1                                    0.0         343.3658       10.847786   \n",
       "2                                    0.0         267.4040       11.856163   \n",
       "3                                    0.0         272.9148       11.856160   \n",
       "4                                    0.0         278.2792       11.856156   \n",
       "\n",
       "   DRAG TERM(B*)  REVOLUTION(rev)  DEB_LABELS  \n",
       "0       -10.2480            40059           0  \n",
       "1        -9.1296            39950           0  \n",
       "2         8.4707            89849           0  \n",
       "3         8.2480            88729           0  \n",
       "4         7.8769            87689           0  "
      ]
     },
     "execution_count": 4,
     "metadata": {},
     "output_type": "execute_result"
    }
   ],
   "source": [
    "df_total = df.append(df_test, ignore_index=True)\n",
    "df_total.head()"
   ]
  },
  {
   "cell_type": "code",
   "execution_count": 5,
   "metadata": {
    "executionInfo": {
     "elapsed": 713,
     "status": "ok",
     "timestamp": 1627320392609,
     "user": {
      "displayName": "Aaryansh Mohan Bansal",
      "photoUrl": "https://lh3.googleusercontent.com/a-/AOh14Ghi3BY2z4TJj9tLxHingTikg46M5njHUxFzDCKQeg=s64",
      "userId": "06585114614514006883"
     },
     "user_tz": -330
    },
    "id": "SxLbAxBj4F3W"
   },
   "outputs": [],
   "source": [
    "df_ = df.drop(['OBJECT_NAME', 'NORAD_ID', 'YEAR LAUNCH', 'EPOCH','DEB_LABELS'], axis=1)\n",
    "df_total_ = df_total.drop(['OBJECT_NAME', 'NORAD_ID', 'YEAR LAUNCH', 'EPOCH','DEB_LABELS'], axis=1)"
   ]
  },
  {
   "cell_type": "code",
   "execution_count": 6,
   "metadata": {
    "colab": {
     "base_uri": "https://localhost:8080/"
    },
    "executionInfo": {
     "elapsed": 13,
     "status": "ok",
     "timestamp": 1627320392611,
     "user": {
      "displayName": "Aaryansh Mohan Bansal",
      "photoUrl": "https://lh3.googleusercontent.com/a-/AOh14Ghi3BY2z4TJj9tLxHingTikg46M5njHUxFzDCKQeg=s64",
      "userId": "06585114614514006883"
     },
     "user_tz": -330
    },
    "id": "Rjsljfj34JmL",
    "outputId": "0446a1f9-d015-412e-b3ec-073b674e6ec6"
   },
   "outputs": [
    {
     "name": "stdout",
     "output_type": "stream",
     "text": [
      "6543689\n",
      "76215\n",
      "6619904\n"
     ]
    }
   ],
   "source": [
    "print('LENGTH OF TRAINING SET=' , len(df))\n",
    "print('LENGTH OF TEST SET=' , len(df_test))"
   ]
  },
  {
   "cell_type": "code",
   "execution_count": 7,
   "metadata": {
    "executionInfo": {
     "elapsed": 9,
     "status": "ok",
     "timestamp": 1627320392612,
     "user": {
      "displayName": "Aaryansh Mohan Bansal",
      "photoUrl": "https://lh3.googleusercontent.com/a-/AOh14Ghi3BY2z4TJj9tLxHingTikg46M5njHUxFzDCKQeg=s64",
      "userId": "06585114614514006883"
     },
     "user_tz": -330
    },
    "id": "8k8hVCsv4P7t"
   },
   "outputs": [],
   "source": [
    "scalar = StandardScaler()\n",
    "scalar_total = StandardScaler()"
   ]
  },
  {
   "cell_type": "code",
   "execution_count": 8,
   "metadata": {
    "colab": {
     "base_uri": "https://localhost:8080/"
    },
    "executionInfo": {
     "elapsed": 2658,
     "status": "ok",
     "timestamp": 1627320395262,
     "user": {
      "displayName": "Aaryansh Mohan Bansal",
      "photoUrl": "https://lh3.googleusercontent.com/a-/AOh14Ghi3BY2z4TJj9tLxHingTikg46M5njHUxFzDCKQeg=s64",
      "userId": "06585114614514006883"
     },
     "user_tz": -330
    },
    "id": "4hvUFXDl4RVR",
    "outputId": "d6b62fb8-ea36-4434-b1f2-079a85c2c1a5"
   },
   "outputs": [
    {
     "data": {
      "text/plain": [
       "StandardScaler()"
      ]
     },
     "execution_count": 8,
     "metadata": {},
     "output_type": "execute_result"
    }
   ],
   "source": [
    "scalar.fit(df.drop(['OBJECT_NAME', 'NORAD_ID', 'YEAR LAUNCH', 'EPOCH','DEB_LABELS'], axis=1))\n",
    "scalar_total.fit(df_total.drop(['OBJECT_NAME', 'NORAD_ID', 'YEAR LAUNCH', 'EPOCH','DEB_LABELS'], axis=1))"
   ]
  },
  {
   "cell_type": "code",
   "execution_count": 9,
   "metadata": {
    "colab": {
     "base_uri": "https://localhost:8080/",
     "height": 278
    },
    "executionInfo": {
     "elapsed": 746,
     "status": "ok",
     "timestamp": 1627320396002,
     "user": {
      "displayName": "Aaryansh Mohan Bansal",
      "photoUrl": "https://lh3.googleusercontent.com/a-/AOh14Ghi3BY2z4TJj9tLxHingTikg46M5njHUxFzDCKQeg=s64",
      "userId": "06585114614514006883"
     },
     "user_tz": -330
    },
    "id": "Pg-SgIzx4X3T",
    "outputId": "efe42727-dd70-499d-cba5-00df87c30b95"
   },
   "outputs": [
    {
     "data": {
      "text/html": [
       "<div>\n",
       "<style scoped>\n",
       "    .dataframe tbody tr th:only-of-type {\n",
       "        vertical-align: middle;\n",
       "    }\n",
       "\n",
       "    .dataframe tbody tr th {\n",
       "        vertical-align: top;\n",
       "    }\n",
       "\n",
       "    .dataframe thead th {\n",
       "        text-align: right;\n",
       "    }\n",
       "</style>\n",
       "<table border=\"1\" class=\"dataframe\">\n",
       "  <thead>\n",
       "    <tr style=\"text-align: right;\">\n",
       "      <th></th>\n",
       "      <th>INCLINATION(i)</th>\n",
       "      <th>RIGHT ASCENSION ASCENDING NODE(w)</th>\n",
       "      <th>ECCENTRICITY(e)</th>\n",
       "      <th>ARGUMENT PERIGEE(omega)</th>\n",
       "      <th>FIRST DERIVATIVE MEAN MOTION(n_dot)</th>\n",
       "      <th>SECOND DERIVATIVE MEAN MOTION(n_ddot)</th>\n",
       "      <th>MEAN ANOMALY(M)</th>\n",
       "      <th>MEAN MOTION(n)</th>\n",
       "      <th>DRAG TERM(B*)</th>\n",
       "      <th>REVOLUTION(rev)</th>\n",
       "    </tr>\n",
       "  </thead>\n",
       "  <tbody>\n",
       "    <tr>\n",
       "      <th>0</th>\n",
       "      <td>-1.139129</td>\n",
       "      <td>0.597003</td>\n",
       "      <td>0.797830</td>\n",
       "      <td>-1.395398</td>\n",
       "      <td>-0.005684</td>\n",
       "      <td>-0.010214</td>\n",
       "      <td>1.445475</td>\n",
       "      <td>-0.125293</td>\n",
       "      <td>-0.014096</td>\n",
       "      <td>-0.087096</td>\n",
       "    </tr>\n",
       "    <tr>\n",
       "      <th>1</th>\n",
       "      <td>-1.139126</td>\n",
       "      <td>0.625838</td>\n",
       "      <td>0.797840</td>\n",
       "      <td>-1.438950</td>\n",
       "      <td>-0.005683</td>\n",
       "      <td>-0.010214</td>\n",
       "      <td>1.475081</td>\n",
       "      <td>-0.125293</td>\n",
       "      <td>-0.013766</td>\n",
       "      <td>-0.090506</td>\n",
       "    </tr>\n",
       "    <tr>\n",
       "      <th>2</th>\n",
       "      <td>-1.181341</td>\n",
       "      <td>-1.395677</td>\n",
       "      <td>0.566061</td>\n",
       "      <td>-0.630292</td>\n",
       "      <td>-0.005647</td>\n",
       "      <td>-0.010214</td>\n",
       "      <td>0.770208</td>\n",
       "      <td>0.072053</td>\n",
       "      <td>-0.008568</td>\n",
       "      <td>1.470416</td>\n",
       "    </tr>\n",
       "    <tr>\n",
       "      <th>3</th>\n",
       "      <td>-1.181341</td>\n",
       "      <td>-1.363553</td>\n",
       "      <td>0.566070</td>\n",
       "      <td>-0.680241</td>\n",
       "      <td>-0.005647</td>\n",
       "      <td>-0.010214</td>\n",
       "      <td>0.821345</td>\n",
       "      <td>0.072053</td>\n",
       "      <td>-0.008634</td>\n",
       "      <td>1.435381</td>\n",
       "    </tr>\n",
       "    <tr>\n",
       "      <th>4</th>\n",
       "      <td>-1.181345</td>\n",
       "      <td>-1.331428</td>\n",
       "      <td>0.566081</td>\n",
       "      <td>-0.730192</td>\n",
       "      <td>-0.005649</td>\n",
       "      <td>-0.010214</td>\n",
       "      <td>0.871123</td>\n",
       "      <td>0.072052</td>\n",
       "      <td>-0.008743</td>\n",
       "      <td>1.402848</td>\n",
       "    </tr>\n",
       "  </tbody>\n",
       "</table>\n",
       "</div>"
      ],
      "text/plain": [
       "   INCLINATION(i)  RIGHT ASCENSION ASCENDING NODE(w)  ECCENTRICITY(e)  \\\n",
       "0       -1.139129                           0.597003         0.797830   \n",
       "1       -1.139126                           0.625838         0.797840   \n",
       "2       -1.181341                          -1.395677         0.566061   \n",
       "3       -1.181341                          -1.363553         0.566070   \n",
       "4       -1.181345                          -1.331428         0.566081   \n",
       "\n",
       "   ARGUMENT PERIGEE(omega)  FIRST DERIVATIVE MEAN MOTION(n_dot)  \\\n",
       "0                -1.395398                            -0.005684   \n",
       "1                -1.438950                            -0.005683   \n",
       "2                -0.630292                            -0.005647   \n",
       "3                -0.680241                            -0.005647   \n",
       "4                -0.730192                            -0.005649   \n",
       "\n",
       "   SECOND DERIVATIVE MEAN MOTION(n_ddot)  MEAN ANOMALY(M)  MEAN MOTION(n)  \\\n",
       "0                              -0.010214         1.445475       -0.125293   \n",
       "1                              -0.010214         1.475081       -0.125293   \n",
       "2                              -0.010214         0.770208        0.072053   \n",
       "3                              -0.010214         0.821345        0.072053   \n",
       "4                              -0.010214         0.871123        0.072052   \n",
       "\n",
       "   DRAG TERM(B*)  REVOLUTION(rev)  \n",
       "0      -0.014096        -0.087096  \n",
       "1      -0.013766        -0.090506  \n",
       "2      -0.008568         1.470416  \n",
       "3      -0.008634         1.435381  \n",
       "4      -0.008743         1.402848  "
      ]
     },
     "execution_count": 9,
     "metadata": {},
     "output_type": "execute_result"
    }
   ],
   "source": [
    "scaled_features = scalar.transform(df.drop(['OBJECT_NAME', 'NORAD_ID', 'YEAR LAUNCH', 'EPOCH','DEB_LABELS'], axis=1))\n",
    "scaled_features_total = scalar.transform(df_total.drop(['OBJECT_NAME', 'NORAD_ID', 'YEAR LAUNCH', 'EPOCH','DEB_LABELS'], axis=1))\n",
    "\n",
    "df_features = pd.DataFrame(scaled_features, columns=df.columns[4:-1])\n",
    "df_features_total = pd.DataFrame(scaled_features_total, columns=df_total.columns[4:-1])\n",
    "df_features.head()"
   ]
  },
  {
   "cell_type": "code",
   "execution_count": 10,
   "metadata": {
    "colab": {
     "base_uri": "https://localhost:8080/",
     "height": 278
    },
    "executionInfo": {
     "elapsed": 22,
     "status": "ok",
     "timestamp": 1627320396004,
     "user": {
      "displayName": "Aaryansh Mohan Bansal",
      "photoUrl": "https://lh3.googleusercontent.com/a-/AOh14Ghi3BY2z4TJj9tLxHingTikg46M5njHUxFzDCKQeg=s64",
      "userId": "06585114614514006883"
     },
     "user_tz": -330
    },
    "id": "dAvZFWhGAokI",
    "outputId": "e9aeff2d-ca1c-4af4-9ba2-875fec66d35a"
   },
   "outputs": [
    {
     "data": {
      "text/html": [
       "<div>\n",
       "<style scoped>\n",
       "    .dataframe tbody tr th:only-of-type {\n",
       "        vertical-align: middle;\n",
       "    }\n",
       "\n",
       "    .dataframe tbody tr th {\n",
       "        vertical-align: top;\n",
       "    }\n",
       "\n",
       "    .dataframe thead th {\n",
       "        text-align: right;\n",
       "    }\n",
       "</style>\n",
       "<table border=\"1\" class=\"dataframe\">\n",
       "  <thead>\n",
       "    <tr style=\"text-align: right;\">\n",
       "      <th></th>\n",
       "      <th>INCLINATION(i)</th>\n",
       "      <th>RIGHT ASCENSION ASCENDING NODE(w)</th>\n",
       "      <th>ECCENTRICITY(e)</th>\n",
       "      <th>ARGUMENT PERIGEE(omega)</th>\n",
       "      <th>FIRST DERIVATIVE MEAN MOTION(n_dot)</th>\n",
       "      <th>SECOND DERIVATIVE MEAN MOTION(n_ddot)</th>\n",
       "      <th>MEAN ANOMALY(M)</th>\n",
       "      <th>MEAN MOTION(n)</th>\n",
       "      <th>DRAG TERM(B*)</th>\n",
       "      <th>REVOLUTION(rev)</th>\n",
       "    </tr>\n",
       "  </thead>\n",
       "  <tbody>\n",
       "    <tr>\n",
       "      <th>0</th>\n",
       "      <td>34.2423</td>\n",
       "      <td>241.7853</td>\n",
       "      <td>0.184549</td>\n",
       "      <td>28.9769</td>\n",
       "      <td>-9.700000e-07</td>\n",
       "      <td>0.0</td>\n",
       "      <td>340.1753</td>\n",
       "      <td>10.847785</td>\n",
       "      <td>-10.2480</td>\n",
       "      <td>40059</td>\n",
       "    </tr>\n",
       "    <tr>\n",
       "      <th>1</th>\n",
       "      <td>34.2424</td>\n",
       "      <td>244.9073</td>\n",
       "      <td>0.184551</td>\n",
       "      <td>24.4163</td>\n",
       "      <td>-8.700000e-07</td>\n",
       "      <td>0.0</td>\n",
       "      <td>343.3658</td>\n",
       "      <td>10.847786</td>\n",
       "      <td>-9.1296</td>\n",
       "      <td>39950</td>\n",
       "    </tr>\n",
       "    <tr>\n",
       "      <th>2</th>\n",
       "      <td>32.8692</td>\n",
       "      <td>26.0392</td>\n",
       "      <td>0.146831</td>\n",
       "      <td>109.0964</td>\n",
       "      <td>1.560000e-06</td>\n",
       "      <td>0.0</td>\n",
       "      <td>267.4040</td>\n",
       "      <td>11.856163</td>\n",
       "      <td>8.4707</td>\n",
       "      <td>89849</td>\n",
       "    </tr>\n",
       "    <tr>\n",
       "      <th>3</th>\n",
       "      <td>32.8692</td>\n",
       "      <td>29.5172</td>\n",
       "      <td>0.146833</td>\n",
       "      <td>103.8659</td>\n",
       "      <td>1.500000e-06</td>\n",
       "      <td>0.0</td>\n",
       "      <td>272.9148</td>\n",
       "      <td>11.856160</td>\n",
       "      <td>8.2480</td>\n",
       "      <td>88729</td>\n",
       "    </tr>\n",
       "    <tr>\n",
       "      <th>4</th>\n",
       "      <td>32.8691</td>\n",
       "      <td>32.9953</td>\n",
       "      <td>0.146835</td>\n",
       "      <td>98.6352</td>\n",
       "      <td>1.420000e-06</td>\n",
       "      <td>0.0</td>\n",
       "      <td>278.2792</td>\n",
       "      <td>11.856156</td>\n",
       "      <td>7.8769</td>\n",
       "      <td>87689</td>\n",
       "    </tr>\n",
       "  </tbody>\n",
       "</table>\n",
       "</div>"
      ],
      "text/plain": [
       "   INCLINATION(i)  RIGHT ASCENSION ASCENDING NODE(w)  ECCENTRICITY(e)  \\\n",
       "0         34.2423                           241.7853         0.184549   \n",
       "1         34.2424                           244.9073         0.184551   \n",
       "2         32.8692                            26.0392         0.146831   \n",
       "3         32.8692                            29.5172         0.146833   \n",
       "4         32.8691                            32.9953         0.146835   \n",
       "\n",
       "   ARGUMENT PERIGEE(omega)  FIRST DERIVATIVE MEAN MOTION(n_dot)  \\\n",
       "0                  28.9769                        -9.700000e-07   \n",
       "1                  24.4163                        -8.700000e-07   \n",
       "2                 109.0964                         1.560000e-06   \n",
       "3                 103.8659                         1.500000e-06   \n",
       "4                  98.6352                         1.420000e-06   \n",
       "\n",
       "   SECOND DERIVATIVE MEAN MOTION(n_ddot)  MEAN ANOMALY(M)  MEAN MOTION(n)  \\\n",
       "0                                    0.0         340.1753       10.847785   \n",
       "1                                    0.0         343.3658       10.847786   \n",
       "2                                    0.0         267.4040       11.856163   \n",
       "3                                    0.0         272.9148       11.856160   \n",
       "4                                    0.0         278.2792       11.856156   \n",
       "\n",
       "   DRAG TERM(B*)  REVOLUTION(rev)  \n",
       "0       -10.2480            40059  \n",
       "1        -9.1296            39950  \n",
       "2         8.4707            89849  \n",
       "3         8.2480            88729  \n",
       "4         7.8769            87689  "
      ]
     },
     "execution_count": 10,
     "metadata": {},
     "output_type": "execute_result"
    }
   ],
   "source": [
    "df_.head()"
   ]
  },
  {
   "cell_type": "code",
   "execution_count": 11,
   "metadata": {
    "executionInfo": {
     "elapsed": 1945,
     "status": "ok",
     "timestamp": 1627320397937,
     "user": {
      "displayName": "Aaryansh Mohan Bansal",
      "photoUrl": "https://lh3.googleusercontent.com/a-/AOh14Ghi3BY2z4TJj9tLxHingTikg46M5njHUxFzDCKQeg=s64",
      "userId": "06585114614514006883"
     },
     "user_tz": -330
    },
    "id": "fbEAaKKJ4ec0"
   },
   "outputs": [],
   "source": [
    "X_train, _, y_train, _ = train_test_split(df_features, df['DEB_LABELS'], test_size=0.2, random_state=20)\n",
    "_, X_test, _, y_test = train_test_split(df_features_total[6543689:], df_total[6543689:]['DEB_LABELS'], test_size=0.99, random_state=20)"
   ]
  },
  {
   "cell_type": "code",
   "execution_count": 12,
   "metadata": {
    "colab": {
     "base_uri": "https://localhost:8080/"
    },
    "executionInfo": {
     "elapsed": 3143426,
     "status": "ok",
     "timestamp": 1627323541344,
     "user": {
      "displayName": "Aaryansh Mohan Bansal",
      "photoUrl": "https://lh3.googleusercontent.com/a-/AOh14Ghi3BY2z4TJj9tLxHingTikg46M5njHUxFzDCKQeg=s64",
      "userId": "06585114614514006883"
     },
     "user_tz": -330
    },
    "id": "_JeANvb24nIZ",
    "outputId": "73c0c193-91cc-4097-844e-18f6f7298203"
   },
   "outputs": [
    {
     "name": "stderr",
     "output_type": "stream",
     "text": [
      "[Parallel(n_jobs=1)]: Using backend SequentialBackend with 1 concurrent workers.\n"
     ]
    },
    {
     "name": "stdout",
     "output_type": "stream",
     "text": [
      "building tree 1 of 1\n"
     ]
    },
    {
     "name": "stderr",
     "output_type": "stream",
     "text": [
      "[Parallel(n_jobs=1)]: Done   1 out of   1 | elapsed:   59.6s remaining:    0.0s\n",
      "[Parallel(n_jobs=1)]: Done   1 out of   1 | elapsed:  1.1min finished\n"
     ]
    },
    {
     "data": {
      "text/plain": [
       "RandomForestClassifier(n_estimators=1, verbose=3)"
      ]
     },
     "execution_count": 12,
     "metadata": {},
     "output_type": "execute_result"
    }
   ],
   "source": [
    "model = RandomForestClassifier(n_estimators=1, verbose = 3)\n",
    "model.fit(X_train, y_train)"
   ]
  },
  {
   "cell_type": "code",
   "execution_count": 18,
   "metadata": {
    "colab": {
     "base_uri": "https://localhost:8080/"
    },
    "executionInfo": {
     "elapsed": 2688,
     "status": "ok",
     "timestamp": 1627323554640,
     "user": {
      "displayName": "Aaryansh Mohan Bansal",
      "photoUrl": "https://lh3.googleusercontent.com/a-/AOh14Ghi3BY2z4TJj9tLxHingTikg46M5njHUxFzDCKQeg=s64",
      "userId": "06585114614514006883"
     },
     "user_tz": -330
    },
    "id": "P6VICObG4tG4",
    "outputId": "b266634a-92aa-48ae-c2b6-b8582af7493b"
   },
   "outputs": [
    {
     "name": "stderr",
     "output_type": "stream",
     "text": [
      "[Parallel(n_jobs=1)]: Using backend SequentialBackend with 1 concurrent workers.\n",
      "[Parallel(n_jobs=1)]: Done   1 out of   1 | elapsed:    0.3s remaining:    0.0s\n",
      "[Parallel(n_jobs=1)]: Done   1 out of   1 | elapsed:    0.3s finished\n"
     ]
    },
    {
     "name": "stdout",
     "output_type": "stream",
     "text": [
      "              precision    recall  f1-score   support\n",
      "\n",
      "         Sat       0.96      0.88      0.92     45337\n",
      "         Deb       0.84      0.95      0.89     30116\n",
      "\n",
      "    accuracy                           0.91     75453\n",
      "   macro avg       0.90      0.91      0.90     75453\n",
      "weighted avg       0.91      0.91      0.91     75453\n",
      "\n",
      "Accuracy =  0.9062197659470134\n"
     ]
    }
   ],
   "source": [
    "prediction_test = model.predict(X_test)\n",
    "\n",
    "from sklearn import metrics\n",
    "from sklearn.metrics import classification_report,confusion_matrix\n",
    "\n",
    "print(classification_report(y_test,prediction_test,target_names=['Sat', 'Deb']))\n",
    "print('Accuracy = ', metrics.accuracy_score(y_test, prediction_test))"
   ]
  },
  {
   "cell_type": "code",
   "execution_count": 17,
   "metadata": {
    "colab": {
     "base_uri": "https://localhost:8080/"
    },
    "executionInfo": {
     "elapsed": 698,
     "status": "ok",
     "timestamp": 1627323651048,
     "user": {
      "displayName": "Aaryansh Mohan Bansal",
      "photoUrl": "https://lh3.googleusercontent.com/a-/AOh14Ghi3BY2z4TJj9tLxHingTikg46M5njHUxFzDCKQeg=s64",
      "userId": "06585114614514006883"
     },
     "user_tz": -330
    },
    "id": "lIx5QIST43fn",
    "outputId": "8062a894-14b7-4121-817d-fded1a8c6d9e"
   },
   "outputs": [
    {
     "name": "stdout",
     "output_type": "stream",
     "text": [
      "ECCENTRICITY(e)                          0.309785\n",
      "INCLINATION(i)                           0.288374\n",
      "MEAN MOTION(n)                           0.158986\n",
      "FIRST DERIVATIVE MEAN MOTION(n_dot)      0.088594\n",
      "DRAG TERM(B*)                            0.087403\n",
      "REVOLUTION(rev)                          0.017375\n",
      "RIGHT ASCENSION ASCENDING NODE(w)        0.014362\n",
      "ARGUMENT PERIGEE(omega)                  0.014154\n",
      "SECOND DERIVATIVE MEAN MOTION(n_ddot)    0.010865\n",
      "MEAN ANOMALY(M)                          0.010102\n",
      "dtype: float64\n"
     ]
    }
   ],
   "source": [
    "feature_list = list(df_features.columns)\n",
    "feature_imp = pd.Series(model.feature_importances_, index=feature_list).sort_values(ascending=False)\n",
    "print(feature_imp)"
   ]
  },
  {
   "cell_type": "code",
   "execution_count": 29,
   "metadata": {},
   "outputs": [
    {
     "data": {
      "image/png": "[encoded data removed]",
      "text/plain": [
       "<Figure size 432x288 with 1 Axes>"
      ]
     },
     "metadata": {
      "needs_background": "light"
     },
     "output_type": "display_data"
    }
   ],
   "source": [
    "import matplotlib.pyplot as plt\n",
    "feature_imp_score = [feature_imp[0], feature_imp[1], feature_imp[2], feature_imp[3], feature_imp[4], feature_imp[5],\n",
    "                    feature_imp[6],feature_imp[7],feature_imp[8]]\n",
    "features = ['e', 'i' , 'n' , 'n_dot', 'B*', 'rev', 'w', 'omega', 'n_ddot']\n",
    "\n",
    "x = np.arange(9)\n",
    "plt.bar(x, height=feature_imp_score)\n",
    "plt.xticks(x,features)\n",
    "\n",
    "#plt.hist(feature_imp, density=True)\n",
    "plt.ylabel('Probability')\n",
    "plt.xlabel('Orbital Elements')\n",
    "plt.show()"
   ]
  },
  {
   "cell_type": "code",
   "execution_count": null,
   "metadata": {},
   "outputs": [],
   "source": []
  }
 ],
 "metadata": {
  "accelerator": "GPU",
  "colab": {
   "authorship_tag": "ABX9TyMBeMS4g4aM8gcTwEnrcBc3",
   "collapsed_sections": [],
   "mount_file_id": "1qibqS36boAwwFxmwbalynuhivLb_nX3H",
   "name": "Random_forest_deception_classifier.ipynb",
   "provenance": [],
   "toc_visible": true
  },
  "kernelspec": {
   "display_name": "Python 3",
   "language": "python",
   "name": "python3"
  },
  "language_info": {
   "codemirror_mode": {
    "name": "ipython",
    "version": 3
   },
   "file_extension": ".py",
   "mimetype": "text/x-python",
   "name": "python",
   "nbconvert_exporter": "python",
   "pygments_lexer": "ipython3",
   "version": "3.8.10"
  }
 },
 "nbformat": 4,
 "nbformat_minor": 1
}
